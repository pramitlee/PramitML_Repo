{
 "cells": [
  {
   "cell_type": "code",
   "execution_count": 1,
   "metadata": {},
   "outputs": [],
   "source": [
    "import pandas as pd\n",
    "import numpy as np\n",
    "import matplotlib.pyplot as plt\n",
    "import seaborn as sns\n",
    "%matplotlib inline\n",
    "import scipy\n",
    "import statsmodels.formula.api as smf\n",
    "from sklearn import metrics\n",
    "from sklearn.linear_model import LinearRegression\n",
    "from sklearn.model_selection import train_test_split\n",
    "import datetime"
   ]
  },
  {
   "cell_type": "code",
   "execution_count": 2,
   "metadata": {},
   "outputs": [
    {
     "name": "stdout",
     "output_type": "stream",
     "text": [
      "[WinError 2] The system cannot find the file specified: 'C:\\\\Users\\\\User\\\\Desktop\\\\ML Projects1'\n",
      "C:\\Users\\User\\OneDrive\\Desktop\\Data Science Projects\\Final ML Projects\\Stock Price Prediction\n"
     ]
    }
   ],
   "source": [
    "cd C:\\Users\\User\\Desktop\\ML Projects1"
   ]
  },
  {
   "cell_type": "code",
   "execution_count": 3,
   "metadata": {},
   "outputs": [
    {
     "data": {
      "text/html": [
       "<div>\n",
       "<style scoped>\n",
       "    .dataframe tbody tr th:only-of-type {\n",
       "        vertical-align: middle;\n",
       "    }\n",
       "\n",
       "    .dataframe tbody tr th {\n",
       "        vertical-align: top;\n",
       "    }\n",
       "\n",
       "    .dataframe thead th {\n",
       "        text-align: right;\n",
       "    }\n",
       "</style>\n",
       "<table border=\"1\" class=\"dataframe\">\n",
       "  <thead>\n",
       "    <tr style=\"text-align: right;\">\n",
       "      <th></th>\n",
       "      <th>time</th>\n",
       "      <th>open</th>\n",
       "      <th>high</th>\n",
       "      <th>low</th>\n",
       "      <th>close</th>\n",
       "      <th>volume</th>\n",
       "    </tr>\n",
       "  </thead>\n",
       "  <tbody>\n",
       "    <tr>\n",
       "      <th>0</th>\n",
       "      <td>3/25/2022 19:19</td>\n",
       "      <td>131.300</td>\n",
       "      <td>131.30</td>\n",
       "      <td>131.300</td>\n",
       "      <td>131.30</td>\n",
       "      <td>718</td>\n",
       "    </tr>\n",
       "    <tr>\n",
       "      <th>1</th>\n",
       "      <td>3/25/2022 19:18</td>\n",
       "      <td>131.300</td>\n",
       "      <td>131.30</td>\n",
       "      <td>131.300</td>\n",
       "      <td>131.30</td>\n",
       "      <td>282</td>\n",
       "    </tr>\n",
       "    <tr>\n",
       "      <th>2</th>\n",
       "      <td>3/25/2022 17:50</td>\n",
       "      <td>131.300</td>\n",
       "      <td>131.30</td>\n",
       "      <td>131.300</td>\n",
       "      <td>131.30</td>\n",
       "      <td>100</td>\n",
       "    </tr>\n",
       "    <tr>\n",
       "      <th>3</th>\n",
       "      <td>3/25/2022 16:59</td>\n",
       "      <td>131.340</td>\n",
       "      <td>131.35</td>\n",
       "      <td>131.340</td>\n",
       "      <td>131.35</td>\n",
       "      <td>1427</td>\n",
       "    </tr>\n",
       "    <tr>\n",
       "      <th>4</th>\n",
       "      <td>3/25/2022 16:42</td>\n",
       "      <td>131.326</td>\n",
       "      <td>131.35</td>\n",
       "      <td>131.326</td>\n",
       "      <td>131.35</td>\n",
       "      <td>1326</td>\n",
       "    </tr>\n",
       "  </tbody>\n",
       "</table>\n",
       "</div>"
      ],
      "text/plain": [
       "              time     open    high      low   close  volume\n",
       "0  3/25/2022 19:19  131.300  131.30  131.300  131.30     718\n",
       "1  3/25/2022 19:18  131.300  131.30  131.300  131.30     282\n",
       "2  3/25/2022 17:50  131.300  131.30  131.300  131.30     100\n",
       "3  3/25/2022 16:59  131.340  131.35  131.340  131.35    1427\n",
       "4  3/25/2022 16:42  131.326  131.35  131.326  131.35    1326"
      ]
     },
     "execution_count": 3,
     "metadata": {},
     "output_type": "execute_result"
    }
   ],
   "source": [
    "df=pd.read_csv(\"Stock_Data.csv\")\n",
    "df.head()"
   ]
  },
  {
   "cell_type": "code",
   "execution_count": 4,
   "metadata": {},
   "outputs": [
    {
     "data": {
      "text/plain": [
       "(216883, 6)"
      ]
     },
     "execution_count": 4,
     "metadata": {},
     "output_type": "execute_result"
    }
   ],
   "source": [
    "df.shape"
   ]
  },
  {
   "cell_type": "code",
   "execution_count": 5,
   "metadata": {},
   "outputs": [
    {
     "name": "stdout",
     "output_type": "stream",
     "text": [
      "<class 'pandas.core.frame.DataFrame'>\n",
      "RangeIndex: 216883 entries, 0 to 216882\n",
      "Data columns (total 6 columns):\n",
      " #   Column  Non-Null Count   Dtype  \n",
      "---  ------  --------------   -----  \n",
      " 0   time    216883 non-null  object \n",
      " 1   open    216883 non-null  float64\n",
      " 2   high    216883 non-null  float64\n",
      " 3   low     216883 non-null  float64\n",
      " 4   close   216883 non-null  float64\n",
      " 5   volume  216883 non-null  int64  \n",
      "dtypes: float64(4), int64(1), object(1)\n",
      "memory usage: 9.9+ MB\n"
     ]
    }
   ],
   "source": [
    "df.info()"
   ]
  },
  {
   "cell_type": "code",
   "execution_count": 6,
   "metadata": {},
   "outputs": [],
   "source": [
    "back=df.copy()"
   ]
  },
  {
   "cell_type": "code",
   "execution_count": 7,
   "metadata": {},
   "outputs": [
    {
     "data": {
      "text/html": [
       "<div>\n",
       "<style scoped>\n",
       "    .dataframe tbody tr th:only-of-type {\n",
       "        vertical-align: middle;\n",
       "    }\n",
       "\n",
       "    .dataframe tbody tr th {\n",
       "        vertical-align: top;\n",
       "    }\n",
       "\n",
       "    .dataframe thead th {\n",
       "        text-align: right;\n",
       "    }\n",
       "</style>\n",
       "<table border=\"1\" class=\"dataframe\">\n",
       "  <thead>\n",
       "    <tr style=\"text-align: right;\">\n",
       "      <th></th>\n",
       "      <th>time</th>\n",
       "      <th>open</th>\n",
       "      <th>high</th>\n",
       "      <th>low</th>\n",
       "      <th>close</th>\n",
       "      <th>volume</th>\n",
       "    </tr>\n",
       "  </thead>\n",
       "  <tbody>\n",
       "    <tr>\n",
       "      <th>0</th>\n",
       "      <td>3/25/2022 19:19</td>\n",
       "      <td>131.300000</td>\n",
       "      <td>131.300000</td>\n",
       "      <td>131.300000</td>\n",
       "      <td>131.300000</td>\n",
       "      <td>718</td>\n",
       "    </tr>\n",
       "    <tr>\n",
       "      <th>1</th>\n",
       "      <td>3/25/2022 19:18</td>\n",
       "      <td>131.300000</td>\n",
       "      <td>131.300000</td>\n",
       "      <td>131.300000</td>\n",
       "      <td>131.300000</td>\n",
       "      <td>282</td>\n",
       "    </tr>\n",
       "    <tr>\n",
       "      <th>2</th>\n",
       "      <td>3/25/2022 17:50</td>\n",
       "      <td>131.300000</td>\n",
       "      <td>131.300000</td>\n",
       "      <td>131.300000</td>\n",
       "      <td>131.300000</td>\n",
       "      <td>100</td>\n",
       "    </tr>\n",
       "    <tr>\n",
       "      <th>3</th>\n",
       "      <td>3/25/2022 16:59</td>\n",
       "      <td>131.340000</td>\n",
       "      <td>131.350000</td>\n",
       "      <td>131.340000</td>\n",
       "      <td>131.350000</td>\n",
       "      <td>1427</td>\n",
       "    </tr>\n",
       "    <tr>\n",
       "      <th>4</th>\n",
       "      <td>3/25/2022 16:42</td>\n",
       "      <td>131.326000</td>\n",
       "      <td>131.350000</td>\n",
       "      <td>131.326000</td>\n",
       "      <td>131.350000</td>\n",
       "      <td>1326</td>\n",
       "    </tr>\n",
       "    <tr>\n",
       "      <th>...</th>\n",
       "      <td>...</td>\n",
       "      <td>...</td>\n",
       "      <td>...</td>\n",
       "      <td>...</td>\n",
       "      <td>...</td>\n",
       "      <td>...</td>\n",
       "    </tr>\n",
       "    <tr>\n",
       "      <th>216878</th>\n",
       "      <td>4/6/2020 7:27</td>\n",
       "      <td>95.385037</td>\n",
       "      <td>95.385037</td>\n",
       "      <td>95.385037</td>\n",
       "      <td>95.385037</td>\n",
       "      <td>854</td>\n",
       "    </tr>\n",
       "    <tr>\n",
       "      <th>216879</th>\n",
       "      <td>4/6/2020 7:25</td>\n",
       "      <td>94.530379</td>\n",
       "      <td>94.530379</td>\n",
       "      <td>94.530379</td>\n",
       "      <td>94.530379</td>\n",
       "      <td>450</td>\n",
       "    </tr>\n",
       "    <tr>\n",
       "      <th>216880</th>\n",
       "      <td>4/6/2020 7:08</td>\n",
       "      <td>94.703037</td>\n",
       "      <td>94.703037</td>\n",
       "      <td>94.703037</td>\n",
       "      <td>94.703037</td>\n",
       "      <td>436</td>\n",
       "    </tr>\n",
       "    <tr>\n",
       "      <th>216881</th>\n",
       "      <td>4/6/2020 7:02</td>\n",
       "      <td>95.479999</td>\n",
       "      <td>95.479999</td>\n",
       "      <td>95.479999</td>\n",
       "      <td>95.479999</td>\n",
       "      <td>575</td>\n",
       "    </tr>\n",
       "    <tr>\n",
       "      <th>216882</th>\n",
       "      <td>4/6/2020 7:01</td>\n",
       "      <td>94.979290</td>\n",
       "      <td>94.979290</td>\n",
       "      <td>94.979290</td>\n",
       "      <td>94.979290</td>\n",
       "      <td>452</td>\n",
       "    </tr>\n",
       "  </tbody>\n",
       "</table>\n",
       "<p>216883 rows × 6 columns</p>\n",
       "</div>"
      ],
      "text/plain": [
       "                   time        open        high         low       close  \\\n",
       "0       3/25/2022 19:19  131.300000  131.300000  131.300000  131.300000   \n",
       "1       3/25/2022 19:18  131.300000  131.300000  131.300000  131.300000   \n",
       "2       3/25/2022 17:50  131.300000  131.300000  131.300000  131.300000   \n",
       "3       3/25/2022 16:59  131.340000  131.350000  131.340000  131.350000   \n",
       "4       3/25/2022 16:42  131.326000  131.350000  131.326000  131.350000   \n",
       "...                 ...         ...         ...         ...         ...   \n",
       "216878    4/6/2020 7:27   95.385037   95.385037   95.385037   95.385037   \n",
       "216879    4/6/2020 7:25   94.530379   94.530379   94.530379   94.530379   \n",
       "216880    4/6/2020 7:08   94.703037   94.703037   94.703037   94.703037   \n",
       "216881    4/6/2020 7:02   95.479999   95.479999   95.479999   95.479999   \n",
       "216882    4/6/2020 7:01   94.979290   94.979290   94.979290   94.979290   \n",
       "\n",
       "        volume  \n",
       "0          718  \n",
       "1          282  \n",
       "2          100  \n",
       "3         1427  \n",
       "4         1326  \n",
       "...        ...  \n",
       "216878     854  \n",
       "216879     450  \n",
       "216880     436  \n",
       "216881     575  \n",
       "216882     452  \n",
       "\n",
       "[216883 rows x 6 columns]"
      ]
     },
     "execution_count": 7,
     "metadata": {},
     "output_type": "execute_result"
    }
   ],
   "source": [
    "back"
   ]
  },
  {
   "cell_type": "code",
   "execution_count": 8,
   "metadata": {},
   "outputs": [
    {
     "data": {
      "text/html": [
       "<div>\n",
       "<style scoped>\n",
       "    .dataframe tbody tr th:only-of-type {\n",
       "        vertical-align: middle;\n",
       "    }\n",
       "\n",
       "    .dataframe tbody tr th {\n",
       "        vertical-align: top;\n",
       "    }\n",
       "\n",
       "    .dataframe thead th {\n",
       "        text-align: right;\n",
       "    }\n",
       "</style>\n",
       "<table border=\"1\" class=\"dataframe\">\n",
       "  <thead>\n",
       "    <tr style=\"text-align: right;\">\n",
       "      <th></th>\n",
       "      <th>open</th>\n",
       "      <th>high</th>\n",
       "      <th>low</th>\n",
       "      <th>close</th>\n",
       "      <th>volume</th>\n",
       "    </tr>\n",
       "  </thead>\n",
       "  <tbody>\n",
       "    <tr>\n",
       "      <th>count</th>\n",
       "      <td>216883.000000</td>\n",
       "      <td>216883.000000</td>\n",
       "      <td>216883.000000</td>\n",
       "      <td>216883.000000</td>\n",
       "      <td>2.168830e+05</td>\n",
       "    </tr>\n",
       "    <tr>\n",
       "      <th>mean</th>\n",
       "      <td>118.568888</td>\n",
       "      <td>118.610088</td>\n",
       "      <td>118.527167</td>\n",
       "      <td>118.568678</td>\n",
       "      <td>1.123028e+04</td>\n",
       "    </tr>\n",
       "    <tr>\n",
       "      <th>std</th>\n",
       "      <td>11.032437</td>\n",
       "      <td>11.030216</td>\n",
       "      <td>11.034414</td>\n",
       "      <td>11.032587</td>\n",
       "      <td>2.550945e+04</td>\n",
       "    </tr>\n",
       "    <tr>\n",
       "      <th>min</th>\n",
       "      <td>93.893379</td>\n",
       "      <td>94.001154</td>\n",
       "      <td>93.878046</td>\n",
       "      <td>93.894886</td>\n",
       "      <td>0.000000e+00</td>\n",
       "    </tr>\n",
       "    <tr>\n",
       "      <th>25%</th>\n",
       "      <td>109.270433</td>\n",
       "      <td>109.306157</td>\n",
       "      <td>109.232227</td>\n",
       "      <td>109.272002</td>\n",
       "      <td>3.895500e+03</td>\n",
       "    </tr>\n",
       "    <tr>\n",
       "      <th>50%</th>\n",
       "      <td>116.919510</td>\n",
       "      <td>116.953384</td>\n",
       "      <td>116.880199</td>\n",
       "      <td>116.919510</td>\n",
       "      <td>6.786000e+03</td>\n",
       "    </tr>\n",
       "    <tr>\n",
       "      <th>75%</th>\n",
       "      <td>129.697796</td>\n",
       "      <td>129.731458</td>\n",
       "      <td>129.666234</td>\n",
       "      <td>129.700000</td>\n",
       "      <td>1.175100e+04</td>\n",
       "    </tr>\n",
       "    <tr>\n",
       "      <th>max</th>\n",
       "      <td>140.686324</td>\n",
       "      <td>140.778433</td>\n",
       "      <td>140.363945</td>\n",
       "      <td>140.658692</td>\n",
       "      <td>2.110106e+06</td>\n",
       "    </tr>\n",
       "  </tbody>\n",
       "</table>\n",
       "</div>"
      ],
      "text/plain": [
       "                open           high            low          close  \\\n",
       "count  216883.000000  216883.000000  216883.000000  216883.000000   \n",
       "mean      118.568888     118.610088     118.527167     118.568678   \n",
       "std        11.032437      11.030216      11.034414      11.032587   \n",
       "min        93.893379      94.001154      93.878046      93.894886   \n",
       "25%       109.270433     109.306157     109.232227     109.272002   \n",
       "50%       116.919510     116.953384     116.880199     116.919510   \n",
       "75%       129.697796     129.731458     129.666234     129.700000   \n",
       "max       140.686324     140.778433     140.363945     140.658692   \n",
       "\n",
       "             volume  \n",
       "count  2.168830e+05  \n",
       "mean   1.123028e+04  \n",
       "std    2.550945e+04  \n",
       "min    0.000000e+00  \n",
       "25%    3.895500e+03  \n",
       "50%    6.786000e+03  \n",
       "75%    1.175100e+04  \n",
       "max    2.110106e+06  "
      ]
     },
     "execution_count": 8,
     "metadata": {},
     "output_type": "execute_result"
    }
   ],
   "source": [
    "df.describe()"
   ]
  },
  {
   "cell_type": "code",
   "execution_count": 9,
   "metadata": {},
   "outputs": [
    {
     "data": {
      "text/plain": [
       "Index(['time', 'open', 'high', 'low', 'close', 'volume'], dtype='object')"
      ]
     },
     "execution_count": 9,
     "metadata": {},
     "output_type": "execute_result"
    }
   ],
   "source": [
    "df.columns"
   ]
  },
  {
   "cell_type": "code",
   "execution_count": 10,
   "metadata": {},
   "outputs": [
    {
     "data": {
      "text/html": [
       "<div>\n",
       "<style scoped>\n",
       "    .dataframe tbody tr th:only-of-type {\n",
       "        vertical-align: middle;\n",
       "    }\n",
       "\n",
       "    .dataframe tbody tr th {\n",
       "        vertical-align: top;\n",
       "    }\n",
       "\n",
       "    .dataframe thead th {\n",
       "        text-align: right;\n",
       "    }\n",
       "</style>\n",
       "<table border=\"1\" class=\"dataframe\">\n",
       "  <thead>\n",
       "    <tr style=\"text-align: right;\">\n",
       "      <th></th>\n",
       "      <th>time</th>\n",
       "      <th>close</th>\n",
       "    </tr>\n",
       "  </thead>\n",
       "  <tbody>\n",
       "    <tr>\n",
       "      <th>0</th>\n",
       "      <td>3/25/2022 19:19</td>\n",
       "      <td>131.30</td>\n",
       "    </tr>\n",
       "    <tr>\n",
       "      <th>1</th>\n",
       "      <td>3/25/2022 19:18</td>\n",
       "      <td>131.30</td>\n",
       "    </tr>\n",
       "    <tr>\n",
       "      <th>2</th>\n",
       "      <td>3/25/2022 17:50</td>\n",
       "      <td>131.30</td>\n",
       "    </tr>\n",
       "    <tr>\n",
       "      <th>3</th>\n",
       "      <td>3/25/2022 16:59</td>\n",
       "      <td>131.35</td>\n",
       "    </tr>\n",
       "    <tr>\n",
       "      <th>4</th>\n",
       "      <td>3/25/2022 16:42</td>\n",
       "      <td>131.35</td>\n",
       "    </tr>\n",
       "  </tbody>\n",
       "</table>\n",
       "</div>"
      ],
      "text/plain": [
       "              time   close\n",
       "0  3/25/2022 19:19  131.30\n",
       "1  3/25/2022 19:18  131.30\n",
       "2  3/25/2022 17:50  131.30\n",
       "3  3/25/2022 16:59  131.35\n",
       "4  3/25/2022 16:42  131.35"
      ]
     },
     "execution_count": 10,
     "metadata": {},
     "output_type": "execute_result"
    }
   ],
   "source": [
    "df1=pd.DataFrame(df,columns=['time','close'])\n",
    "df1.head()"
   ]
  },
  {
   "cell_type": "code",
   "execution_count": 11,
   "metadata": {},
   "outputs": [
    {
     "name": "stdout",
     "output_type": "stream",
     "text": [
      "<class 'pandas.core.frame.DataFrame'>\n",
      "RangeIndex: 216883 entries, 0 to 216882\n",
      "Data columns (total 2 columns):\n",
      " #   Column  Non-Null Count   Dtype  \n",
      "---  ------  --------------   -----  \n",
      " 0   time    216883 non-null  object \n",
      " 1   close   216883 non-null  float64\n",
      "dtypes: float64(1), object(1)\n",
      "memory usage: 3.3+ MB\n"
     ]
    }
   ],
   "source": [
    "df1.info()"
   ]
  },
  {
   "cell_type": "code",
   "execution_count": 12,
   "metadata": {},
   "outputs": [],
   "source": [
    "df1['time']=pd.to_datetime(df1['time'])"
   ]
  },
  {
   "cell_type": "code",
   "execution_count": 13,
   "metadata": {},
   "outputs": [
    {
     "data": {
      "text/html": [
       "<div>\n",
       "<style scoped>\n",
       "    .dataframe tbody tr th:only-of-type {\n",
       "        vertical-align: middle;\n",
       "    }\n",
       "\n",
       "    .dataframe tbody tr th {\n",
       "        vertical-align: top;\n",
       "    }\n",
       "\n",
       "    .dataframe thead th {\n",
       "        text-align: right;\n",
       "    }\n",
       "</style>\n",
       "<table border=\"1\" class=\"dataframe\">\n",
       "  <thead>\n",
       "    <tr style=\"text-align: right;\">\n",
       "      <th></th>\n",
       "      <th>time</th>\n",
       "      <th>close</th>\n",
       "      <th>Date</th>\n",
       "    </tr>\n",
       "  </thead>\n",
       "  <tbody>\n",
       "    <tr>\n",
       "      <th>0</th>\n",
       "      <td>2022-03-25 19:19:00</td>\n",
       "      <td>131.30</td>\n",
       "      <td>2022-03-25</td>\n",
       "    </tr>\n",
       "    <tr>\n",
       "      <th>1</th>\n",
       "      <td>2022-03-25 19:18:00</td>\n",
       "      <td>131.30</td>\n",
       "      <td>2022-03-25</td>\n",
       "    </tr>\n",
       "    <tr>\n",
       "      <th>2</th>\n",
       "      <td>2022-03-25 17:50:00</td>\n",
       "      <td>131.30</td>\n",
       "      <td>2022-03-25</td>\n",
       "    </tr>\n",
       "    <tr>\n",
       "      <th>3</th>\n",
       "      <td>2022-03-25 16:59:00</td>\n",
       "      <td>131.35</td>\n",
       "      <td>2022-03-25</td>\n",
       "    </tr>\n",
       "    <tr>\n",
       "      <th>4</th>\n",
       "      <td>2022-03-25 16:42:00</td>\n",
       "      <td>131.35</td>\n",
       "      <td>2022-03-25</td>\n",
       "    </tr>\n",
       "  </tbody>\n",
       "</table>\n",
       "</div>"
      ],
      "text/plain": [
       "                 time   close        Date\n",
       "0 2022-03-25 19:19:00  131.30  2022-03-25\n",
       "1 2022-03-25 19:18:00  131.30  2022-03-25\n",
       "2 2022-03-25 17:50:00  131.30  2022-03-25\n",
       "3 2022-03-25 16:59:00  131.35  2022-03-25\n",
       "4 2022-03-25 16:42:00  131.35  2022-03-25"
      ]
     },
     "execution_count": 13,
     "metadata": {},
     "output_type": "execute_result"
    }
   ],
   "source": [
    "df1['Date']=df1['time'].dt.date\n",
    "df1.head()"
   ]
  },
  {
   "cell_type": "code",
   "execution_count": 14,
   "metadata": {},
   "outputs": [
    {
     "data": {
      "text/html": [
       "<div>\n",
       "<style scoped>\n",
       "    .dataframe tbody tr th:only-of-type {\n",
       "        vertical-align: middle;\n",
       "    }\n",
       "\n",
       "    .dataframe tbody tr th {\n",
       "        vertical-align: top;\n",
       "    }\n",
       "\n",
       "    .dataframe thead th {\n",
       "        text-align: right;\n",
       "    }\n",
       "</style>\n",
       "<table border=\"1\" class=\"dataframe\">\n",
       "  <thead>\n",
       "    <tr style=\"text-align: right;\">\n",
       "      <th></th>\n",
       "      <th>close</th>\n",
       "      <th>Date</th>\n",
       "    </tr>\n",
       "  </thead>\n",
       "  <tbody>\n",
       "    <tr>\n",
       "      <th>0</th>\n",
       "      <td>131.30</td>\n",
       "      <td>2022-03-25</td>\n",
       "    </tr>\n",
       "    <tr>\n",
       "      <th>1</th>\n",
       "      <td>131.30</td>\n",
       "      <td>2022-03-25</td>\n",
       "    </tr>\n",
       "    <tr>\n",
       "      <th>2</th>\n",
       "      <td>131.30</td>\n",
       "      <td>2022-03-25</td>\n",
       "    </tr>\n",
       "    <tr>\n",
       "      <th>3</th>\n",
       "      <td>131.35</td>\n",
       "      <td>2022-03-25</td>\n",
       "    </tr>\n",
       "    <tr>\n",
       "      <th>4</th>\n",
       "      <td>131.35</td>\n",
       "      <td>2022-03-25</td>\n",
       "    </tr>\n",
       "  </tbody>\n",
       "</table>\n",
       "</div>"
      ],
      "text/plain": [
       "    close        Date\n",
       "0  131.30  2022-03-25\n",
       "1  131.30  2022-03-25\n",
       "2  131.30  2022-03-25\n",
       "3  131.35  2022-03-25\n",
       "4  131.35  2022-03-25"
      ]
     },
     "execution_count": 14,
     "metadata": {},
     "output_type": "execute_result"
    }
   ],
   "source": [
    "df1.drop(['time'],axis=1,inplace=True)\n",
    "df1.head()"
   ]
  },
  {
   "cell_type": "code",
   "execution_count": 15,
   "metadata": {},
   "outputs": [],
   "source": [
    "df3=df1.groupby('Date', as_index=False)['close'].mean()"
   ]
  },
  {
   "cell_type": "code",
   "execution_count": 16,
   "metadata": {},
   "outputs": [
    {
     "data": {
      "image/png": "[encoded data removed]",
      "text/plain": [
       "<Figure size 936x576 with 1 Axes>"
      ]
     },
     "metadata": {
      "needs_background": "light"
     },
     "output_type": "display_data"
    }
   ],
   "source": [
    "import matplotlib.dates as mdates\n",
    "fig, ax = plt.subplots(figsize=(13,8))\n",
    "ax.plot(df1['Date'], df1['close'])\n",
    "\n",
    "# Format the ticks\n",
    "#ax.xaxis.set_major_locator(years)\n",
    "#ax.xaxis.set_major_formatter(yearsFmt)\n",
    "\n",
    "plt.title('Closing Stock Price Plot', fontsize=16)\n",
    "# Set x label\n",
    "plt.xlabel('Date', fontsize=14)\n",
    "# Set y label\n",
    "plt.ylabel('Closing Stock Price', fontsize=14)\n",
    "\n",
    "# Show plot\n",
    "plt.show()"
   ]
  },
  {
   "cell_type": "code",
   "execution_count": 17,
   "metadata": {},
   "outputs": [
    {
     "data": {
      "image/png": "[encoded data removed]",
      "text/plain": [
       "<Figure size 936x576 with 1 Axes>"
      ]
     },
     "metadata": {
      "needs_background": "light"
     },
     "output_type": "display_data"
    }
   ],
   "source": [
    "import matplotlib.dates as mdates\n",
    "fig, ax = plt.subplots(figsize=(13,8))\n",
    "ax.plot(df3['Date'], df3['close'])\n",
    "\n",
    "# Format the ticks\n",
    "#ax.xaxis.set_major_locator(years)\n",
    "#ax.xaxis.set_major_formatter(yearsFmt)\n",
    "\n",
    "plt.title('Closing Stock Price Plot', fontsize=16)\n",
    "# Set x label\n",
    "plt.xlabel('Date', fontsize=14)\n",
    "# Set y label\n",
    "plt.ylabel('Closing Stock Price', fontsize=14)\n",
    "#ax.plot(df3['Date'], df3['close'],c='red')\n",
    "\n",
    "# Show plot\n",
    "plt.show()"
   ]
  },
  {
   "cell_type": "code",
   "execution_count": 18,
   "metadata": {},
   "outputs": [
    {
     "data": {
      "text/html": [
       "<div>\n",
       "<style scoped>\n",
       "    .dataframe tbody tr th:only-of-type {\n",
       "        vertical-align: middle;\n",
       "    }\n",
       "\n",
       "    .dataframe tbody tr th {\n",
       "        vertical-align: top;\n",
       "    }\n",
       "\n",
       "    .dataframe thead th {\n",
       "        text-align: right;\n",
       "    }\n",
       "</style>\n",
       "<table border=\"1\" class=\"dataframe\">\n",
       "  <thead>\n",
       "    <tr style=\"text-align: right;\">\n",
       "      <th></th>\n",
       "      <th>close</th>\n",
       "      <th>Date</th>\n",
       "    </tr>\n",
       "  </thead>\n",
       "  <tbody>\n",
       "    <tr>\n",
       "      <th>0</th>\n",
       "      <td>131.30</td>\n",
       "      <td>2022-03-25</td>\n",
       "    </tr>\n",
       "    <tr>\n",
       "      <th>1</th>\n",
       "      <td>131.30</td>\n",
       "      <td>2022-03-25</td>\n",
       "    </tr>\n",
       "    <tr>\n",
       "      <th>2</th>\n",
       "      <td>131.30</td>\n",
       "      <td>2022-03-25</td>\n",
       "    </tr>\n",
       "    <tr>\n",
       "      <th>3</th>\n",
       "      <td>131.35</td>\n",
       "      <td>2022-03-25</td>\n",
       "    </tr>\n",
       "    <tr>\n",
       "      <th>4</th>\n",
       "      <td>131.35</td>\n",
       "      <td>2022-03-25</td>\n",
       "    </tr>\n",
       "  </tbody>\n",
       "</table>\n",
       "</div>"
      ],
      "text/plain": [
       "    close        Date\n",
       "0  131.30  2022-03-25\n",
       "1  131.30  2022-03-25\n",
       "2  131.30  2022-03-25\n",
       "3  131.35  2022-03-25\n",
       "4  131.35  2022-03-25"
      ]
     },
     "execution_count": 18,
     "metadata": {},
     "output_type": "execute_result"
    }
   ],
   "source": [
    "df1.head()"
   ]
  },
  {
   "cell_type": "code",
   "execution_count": 19,
   "metadata": {},
   "outputs": [
    {
     "name": "stdout",
     "output_type": "stream",
     "text": [
      "<class 'pandas.core.frame.DataFrame'>\n",
      "RangeIndex: 216883 entries, 0 to 216882\n",
      "Data columns (total 2 columns):\n",
      " #   Column  Non-Null Count   Dtype  \n",
      "---  ------  --------------   -----  \n",
      " 0   close   216883 non-null  float64\n",
      " 1   Date    216883 non-null  object \n",
      "dtypes: float64(1), object(1)\n",
      "memory usage: 3.3+ MB\n"
     ]
    }
   ],
   "source": [
    "df1.info()"
   ]
  },
  {
   "cell_type": "code",
   "execution_count": 20,
   "metadata": {},
   "outputs": [
    {
     "data": {
      "text/html": [
       "<div>\n",
       "<style scoped>\n",
       "    .dataframe tbody tr th:only-of-type {\n",
       "        vertical-align: middle;\n",
       "    }\n",
       "\n",
       "    .dataframe tbody tr th {\n",
       "        vertical-align: top;\n",
       "    }\n",
       "\n",
       "    .dataframe thead th {\n",
       "        text-align: right;\n",
       "    }\n",
       "</style>\n",
       "<table border=\"1\" class=\"dataframe\">\n",
       "  <thead>\n",
       "    <tr style=\"text-align: right;\">\n",
       "      <th></th>\n",
       "      <th>Date</th>\n",
       "      <th>close</th>\n",
       "    </tr>\n",
       "  </thead>\n",
       "  <tbody>\n",
       "    <tr>\n",
       "      <th>0</th>\n",
       "      <td>2020-04-06</td>\n",
       "      <td>97.155860</td>\n",
       "    </tr>\n",
       "    <tr>\n",
       "      <th>1</th>\n",
       "      <td>2020-04-07</td>\n",
       "      <td>101.590365</td>\n",
       "    </tr>\n",
       "    <tr>\n",
       "      <th>2</th>\n",
       "      <td>2020-04-08</td>\n",
       "      <td>101.330077</td>\n",
       "    </tr>\n",
       "    <tr>\n",
       "      <th>3</th>\n",
       "      <td>2020-04-09</td>\n",
       "      <td>104.823744</td>\n",
       "    </tr>\n",
       "    <tr>\n",
       "      <th>4</th>\n",
       "      <td>2020-04-13</td>\n",
       "      <td>103.246634</td>\n",
       "    </tr>\n",
       "  </tbody>\n",
       "</table>\n",
       "</div>"
      ],
      "text/plain": [
       "         Date       close\n",
       "0  2020-04-06   97.155860\n",
       "1  2020-04-07  101.590365\n",
       "2  2020-04-08  101.330077\n",
       "3  2020-04-09  104.823744\n",
       "4  2020-04-13  103.246634"
      ]
     },
     "execution_count": 20,
     "metadata": {},
     "output_type": "execute_result"
    }
   ],
   "source": [
    "df3.head()"
   ]
  },
  {
   "cell_type": "code",
   "execution_count": 21,
   "metadata": {},
   "outputs": [
    {
     "name": "stdout",
     "output_type": "stream",
     "text": [
      "<class 'pandas.core.frame.DataFrame'>\n",
      "Int64Index: 498 entries, 0 to 497\n",
      "Data columns (total 2 columns):\n",
      " #   Column  Non-Null Count  Dtype  \n",
      "---  ------  --------------  -----  \n",
      " 0   Date    498 non-null    object \n",
      " 1   close   498 non-null    float64\n",
      "dtypes: float64(1), object(1)\n",
      "memory usage: 11.7+ KB\n"
     ]
    }
   ],
   "source": [
    "df3.info()"
   ]
  },
  {
   "cell_type": "code",
   "execution_count": 22,
   "metadata": {},
   "outputs": [
    {
     "data": {
      "text/html": [
       "<div>\n",
       "<style scoped>\n",
       "    .dataframe tbody tr th:only-of-type {\n",
       "        vertical-align: middle;\n",
       "    }\n",
       "\n",
       "    .dataframe tbody tr th {\n",
       "        vertical-align: top;\n",
       "    }\n",
       "\n",
       "    .dataframe thead th {\n",
       "        text-align: right;\n",
       "    }\n",
       "</style>\n",
       "<table border=\"1\" class=\"dataframe\">\n",
       "  <thead>\n",
       "    <tr style=\"text-align: right;\">\n",
       "      <th></th>\n",
       "      <th>time</th>\n",
       "      <th>open</th>\n",
       "      <th>high</th>\n",
       "      <th>low</th>\n",
       "      <th>close</th>\n",
       "      <th>volume</th>\n",
       "    </tr>\n",
       "  </thead>\n",
       "  <tbody>\n",
       "    <tr>\n",
       "      <th>0</th>\n",
       "      <td>3/25/2022 19:19</td>\n",
       "      <td>131.300</td>\n",
       "      <td>131.30</td>\n",
       "      <td>131.300</td>\n",
       "      <td>131.30</td>\n",
       "      <td>718</td>\n",
       "    </tr>\n",
       "    <tr>\n",
       "      <th>1</th>\n",
       "      <td>3/25/2022 19:18</td>\n",
       "      <td>131.300</td>\n",
       "      <td>131.30</td>\n",
       "      <td>131.300</td>\n",
       "      <td>131.30</td>\n",
       "      <td>282</td>\n",
       "    </tr>\n",
       "    <tr>\n",
       "      <th>2</th>\n",
       "      <td>3/25/2022 17:50</td>\n",
       "      <td>131.300</td>\n",
       "      <td>131.30</td>\n",
       "      <td>131.300</td>\n",
       "      <td>131.30</td>\n",
       "      <td>100</td>\n",
       "    </tr>\n",
       "    <tr>\n",
       "      <th>3</th>\n",
       "      <td>3/25/2022 16:59</td>\n",
       "      <td>131.340</td>\n",
       "      <td>131.35</td>\n",
       "      <td>131.340</td>\n",
       "      <td>131.35</td>\n",
       "      <td>1427</td>\n",
       "    </tr>\n",
       "    <tr>\n",
       "      <th>4</th>\n",
       "      <td>3/25/2022 16:42</td>\n",
       "      <td>131.326</td>\n",
       "      <td>131.35</td>\n",
       "      <td>131.326</td>\n",
       "      <td>131.35</td>\n",
       "      <td>1326</td>\n",
       "    </tr>\n",
       "  </tbody>\n",
       "</table>\n",
       "</div>"
      ],
      "text/plain": [
       "              time     open    high      low   close  volume\n",
       "0  3/25/2022 19:19  131.300  131.30  131.300  131.30     718\n",
       "1  3/25/2022 19:18  131.300  131.30  131.300  131.30     282\n",
       "2  3/25/2022 17:50  131.300  131.30  131.300  131.30     100\n",
       "3  3/25/2022 16:59  131.340  131.35  131.340  131.35    1427\n",
       "4  3/25/2022 16:42  131.326  131.35  131.326  131.35    1326"
      ]
     },
     "execution_count": 22,
     "metadata": {},
     "output_type": "execute_result"
    }
   ],
   "source": [
    "#df1['Date'] = df1['Date'].astype(np.float64)\n",
    "df2=back\n",
    "df2.head()"
   ]
  },
  {
   "cell_type": "code",
   "execution_count": 23,
   "metadata": {},
   "outputs": [
    {
     "data": {
      "text/html": [
       "<div>\n",
       "<style scoped>\n",
       "    .dataframe tbody tr th:only-of-type {\n",
       "        vertical-align: middle;\n",
       "    }\n",
       "\n",
       "    .dataframe tbody tr th {\n",
       "        vertical-align: top;\n",
       "    }\n",
       "\n",
       "    .dataframe thead th {\n",
       "        text-align: right;\n",
       "    }\n",
       "</style>\n",
       "<table border=\"1\" class=\"dataframe\">\n",
       "  <thead>\n",
       "    <tr style=\"text-align: right;\">\n",
       "      <th></th>\n",
       "      <th>time</th>\n",
       "      <th>close</th>\n",
       "    </tr>\n",
       "  </thead>\n",
       "  <tbody>\n",
       "    <tr>\n",
       "      <th>0</th>\n",
       "      <td>3/25/2022 19:19</td>\n",
       "      <td>131.30</td>\n",
       "    </tr>\n",
       "    <tr>\n",
       "      <th>1</th>\n",
       "      <td>3/25/2022 19:18</td>\n",
       "      <td>131.30</td>\n",
       "    </tr>\n",
       "    <tr>\n",
       "      <th>2</th>\n",
       "      <td>3/25/2022 17:50</td>\n",
       "      <td>131.30</td>\n",
       "    </tr>\n",
       "    <tr>\n",
       "      <th>3</th>\n",
       "      <td>3/25/2022 16:59</td>\n",
       "      <td>131.35</td>\n",
       "    </tr>\n",
       "    <tr>\n",
       "      <th>4</th>\n",
       "      <td>3/25/2022 16:42</td>\n",
       "      <td>131.35</td>\n",
       "    </tr>\n",
       "  </tbody>\n",
       "</table>\n",
       "</div>"
      ],
      "text/plain": [
       "              time   close\n",
       "0  3/25/2022 19:19  131.30\n",
       "1  3/25/2022 19:18  131.30\n",
       "2  3/25/2022 17:50  131.30\n",
       "3  3/25/2022 16:59  131.35\n",
       "4  3/25/2022 16:42  131.35"
      ]
     },
     "execution_count": 23,
     "metadata": {},
     "output_type": "execute_result"
    }
   ],
   "source": [
    "df2=pd.DataFrame(df2,columns=['time','close'])\n",
    "df2.head()"
   ]
  },
  {
   "cell_type": "code",
   "execution_count": 24,
   "metadata": {},
   "outputs": [],
   "source": [
    "train,test=train_test_split(df1,test_size=0.2)"
   ]
  },
  {
   "cell_type": "code",
   "execution_count": 25,
   "metadata": {},
   "outputs": [],
   "source": [
    "# Reshape index column to 2D array for .fit() method\n",
    "X_train = np.array(train.index).reshape(-1, 1)\n",
    "y_train = train['close']"
   ]
  },
  {
   "cell_type": "code",
   "execution_count": 26,
   "metadata": {},
   "outputs": [
    {
     "data": {
      "text/plain": [
       "LinearRegression(copy_X=True, fit_intercept=True, n_jobs=None, normalize=False)"
      ]
     },
     "execution_count": 26,
     "metadata": {},
     "output_type": "execute_result"
    }
   ],
   "source": [
    "# Create LinearRegression Object\n",
    "model = LinearRegression()\n",
    "# Fit linear model using the train data set\n",
    "model.fit(X_train, y_train)"
   ]
  },
  {
   "cell_type": "code",
   "execution_count": 27,
   "metadata": {},
   "outputs": [
    {
     "name": "stdout",
     "output_type": "stream",
     "text": [
      "Slope:  -0.00013808524812845976\n",
      "Intercept:  133.55765865631756\n"
     ]
    },
    {
     "name": "stderr",
     "output_type": "stream",
     "text": [
      "C:\\Users\\User\\anaconda3\\lib\\site-packages\\ipykernel_launcher.py:2: DeprecationWarning: np.asscalar(a) is deprecated since NumPy v1.16, use a.item() instead\n",
      "  \n"
     ]
    }
   ],
   "source": [
    "# The coefficient\n",
    "print('Slope: ', np.asscalar(np.squeeze(model.coef_)))\n",
    "# The Intercept\n",
    "print('Intercept: ', model.intercept_)"
   ]
  },
  {
   "cell_type": "code",
   "execution_count": 28,
   "metadata": {},
   "outputs": [
    {
     "data": {
      "image/png": "[encoded data removed]",
      "text/plain": [
       "<Figure size 1152x720 with 1 Axes>"
      ]
     },
     "metadata": {
      "needs_background": "light"
     },
     "output_type": "display_data"
    }
   ],
   "source": [
    "# Train set graph\n",
    "plt.figure(1, figsize=(16,10))\n",
    "plt.title('Linear Regression | Price vs Time')\n",
    "plt.scatter(X_train, y_train, edgecolor='w', label='Actual Price')\n",
    "plt.plot(X_train, model.predict(X_train), color='r', label='Predicted Price')\n",
    "plt.xlabel('Date')\n",
    "plt.ylabel('Stock Price')\n",
    "plt.legend()\n",
    "plt.show()"
   ]
  },
  {
   "cell_type": "code",
   "execution_count": 29,
   "metadata": {},
   "outputs": [],
   "source": [
    "# Create test arrays\n",
    "X_test = np.array(test.index).reshape(-1, 1)\n",
    "y_test = test['close']"
   ]
  },
  {
   "cell_type": "code",
   "execution_count": 30,
   "metadata": {},
   "outputs": [],
   "source": [
    "# Generate array with predicted values\n",
    "y_pred = model.predict(X_test)"
   ]
  },
  {
   "cell_type": "code",
   "execution_count": 31,
   "metadata": {},
   "outputs": [
    {
     "name": "stdout",
     "output_type": "stream",
     "text": [
      "Mean Absolute Error: 5.499816731312376\n",
      "Mean Squared Error: 47.0773011658382\n",
      "Root Mean Squared Error: 6.861290051137483\n"
     ]
    }
   ],
   "source": [
    "# Calculate and print values of MAE, MSE, RMSE\n",
    "print('Mean Absolute Error:', metrics.mean_absolute_error(y_test, y_pred))  \n",
    "print('Mean Squared Error:', metrics.mean_squared_error(y_test, y_pred))  \n",
    "print('Root Mean Squared Error:', np.sqrt(metrics.mean_squared_error(y_test, y_pred)))"
   ]
  },
  {
   "cell_type": "code",
   "execution_count": 32,
   "metadata": {},
   "outputs": [
    {
     "name": "stdout",
     "output_type": "stream",
     "text": [
      "R2:  0.6132686000623984\n"
     ]
    }
   ],
   "source": [
    "# Coefficient of determination\n",
    "print('R2: ', metrics.r2_score(y_test, y_pred))"
   ]
  },
  {
   "cell_type": "code",
   "execution_count": 33,
   "metadata": {},
   "outputs": [
    {
     "name": "stdout",
     "output_type": "stream",
     "text": [
      "Variance score: 0.6133140587205029\n"
     ]
    }
   ],
   "source": [
    "from sklearn.metrics import explained_variance_score\n",
    "\n",
    "print('Variance score: {}'.format(explained_variance_score(y_test, y_pred)))"
   ]
  },
  {
   "cell_type": "code",
   "execution_count": 34,
   "metadata": {},
   "outputs": [
    {
     "data": {
      "text/plain": [
       "216883"
      ]
     },
     "execution_count": 34,
     "metadata": {},
     "output_type": "execute_result"
    }
   ],
   "source": [
    "n=len(df1)\n",
    "n"
   ]
  },
  {
   "cell_type": "markdown",
   "metadata": {},
   "source": [
    "### n= number of data points\n",
    "### p=number of indepandant features"
   ]
  },
  {
   "cell_type": "code",
   "execution_count": 35,
   "metadata": {},
   "outputs": [],
   "source": [
    "n=len(df1)\n",
    "p=1\n",
    "r2score=metrics.r2_score(y_test, y_pred)"
   ]
  },
  {
   "cell_type": "code",
   "execution_count": 36,
   "metadata": {},
   "outputs": [
    {
     "data": {
      "text/plain": [
       "216883"
      ]
     },
     "execution_count": 36,
     "metadata": {},
     "output_type": "execute_result"
    }
   ],
   "source": [
    "n"
   ]
  },
  {
   "cell_type": "code",
   "execution_count": 37,
   "metadata": {},
   "outputs": [
    {
     "data": {
      "text/plain": [
       "0.6132686000623984"
      ]
     },
     "execution_count": 37,
     "metadata": {},
     "output_type": "execute_result"
    }
   ],
   "source": [
    "r2score"
   ]
  },
  {
   "cell_type": "code",
   "execution_count": 38,
   "metadata": {},
   "outputs": [
    {
     "name": "stdout",
     "output_type": "stream",
     "text": [
      "Adjusted R2 score: 0.6132668169121919\n"
     ]
    }
   ],
   "source": [
    "adjusted_r2_score=1-((1-r2score)*(n-1))/(n-p-1)\n",
    "print('Adjusted R2 score: {}'.format(adjusted_r2_score))"
   ]
  },
  {
   "cell_type": "markdown",
   "metadata": {},
   "source": [
    "### Random Forest Regressor"
   ]
  },
  {
   "cell_type": "code",
   "execution_count": 39,
   "metadata": {},
   "outputs": [],
   "source": [
    "from sklearn.ensemble import RandomForestRegressor\n",
    "\n",
    "rfr = RandomForestRegressor()\n",
    "rfr.fit(X_train, y_train)\n",
    "rfr_prediction = rfr.predict(X_test)"
   ]
  },
  {
   "cell_type": "markdown",
   "metadata": {},
   "source": [
    "### Calculating error metrics for Random Forest "
   ]
  },
  {
   "cell_type": "code",
   "execution_count": 40,
   "metadata": {},
   "outputs": [
    {
     "name": "stdout",
     "output_type": "stream",
     "text": [
      "Mean Absolute Error: 0.050186458517684975\n",
      "Mean Squared Error: 0.008748351534040886\n",
      "Root Mean Squared Error: 0.09353262283311041\n"
     ]
    }
   ],
   "source": [
    "# Calculate and print values of MAE, MSE, RMSE\n",
    "print('Mean Absolute Error:', metrics.mean_absolute_error(y_test, rfr_prediction))  \n",
    "print('Mean Squared Error:', metrics.mean_squared_error(y_test, rfr_prediction))  \n",
    "print('Root Mean Squared Error:', np.sqrt(metrics.mean_squared_error(y_test, rfr_prediction)))"
   ]
  },
  {
   "cell_type": "markdown",
   "metadata": {},
   "source": [
    "### Calculating Coefficient of determination (R2 Score) for Random Forest Model "
   ]
  },
  {
   "cell_type": "code",
   "execution_count": 41,
   "metadata": {},
   "outputs": [
    {
     "name": "stdout",
     "output_type": "stream",
     "text": [
      "0.9999281338956966\n"
     ]
    }
   ],
   "source": [
    "print(metrics.r2_score(y_test, rfr_prediction))"
   ]
  },
  {
   "cell_type": "code",
   "execution_count": 42,
   "metadata": {},
   "outputs": [],
   "source": [
    "rfr_r2_score=metrics.r2_score(y_test, rfr_prediction)"
   ]
  },
  {
   "cell_type": "markdown",
   "metadata": {},
   "source": [
    "### Calculating Adjusted R square for Random Forest"
   ]
  },
  {
   "cell_type": "code",
   "execution_count": 43,
   "metadata": {},
   "outputs": [
    {
     "name": "stdout",
     "output_type": "stream",
     "text": [
      "Adjusted R2 score For Random Forest: 0.9999281335643346\n"
     ]
    }
   ],
   "source": [
    "rfr_adjusted_r2_score=1-((1-rfr_r2_score)*(n-1))/(n-p-1)\n",
    "print('Adjusted R2 score For Random Forest: {}'.format(rfr_adjusted_r2_score))"
   ]
  },
  {
   "cell_type": "markdown",
   "metadata": {},
   "source": [
    "### Decision Tree Classifier"
   ]
  },
  {
   "cell_type": "code",
   "execution_count": 44,
   "metadata": {},
   "outputs": [],
   "source": [
    "from sklearn.tree import DecisionTreeRegressor\n",
    "\n",
    "dtr = DecisionTreeRegressor()\n",
    "dtr.fit(X_train, y_train)\n",
    "dtr_prediction = dtr.predict(X_test)"
   ]
  },
  {
   "cell_type": "markdown",
   "metadata": {},
   "source": [
    "### Calculating error metrics for Decision Tree"
   ]
  },
  {
   "cell_type": "code",
   "execution_count": 45,
   "metadata": {},
   "outputs": [
    {
     "name": "stdout",
     "output_type": "stream",
     "text": [
      "Mean Absolute Error: 0.05943103858537435\n",
      "Mean Squared Error: 0.013456220988306067\n",
      "Root Mean Squared Error: 0.11600095253189116\n"
     ]
    }
   ],
   "source": [
    "# Calculate and print values of MAE, MSE, RMSE\n",
    "print('Mean Absolute Error:', metrics.mean_absolute_error(y_test, dtr_prediction))  \n",
    "print('Mean Squared Error:', metrics.mean_squared_error(y_test, dtr_prediction))  \n",
    "print('Root Mean Squared Error:', np.sqrt(metrics.mean_squared_error(y_test, dtr_prediction)))"
   ]
  },
  {
   "cell_type": "markdown",
   "metadata": {},
   "source": [
    "### Calculating Coefficient of determination (R2 Score) for Decision Tree Model "
   ]
  },
  {
   "cell_type": "code",
   "execution_count": 46,
   "metadata": {},
   "outputs": [
    {
     "name": "stdout",
     "output_type": "stream",
     "text": [
      "0.9998894596110693\n"
     ]
    }
   ],
   "source": [
    "print(metrics.r2_score(y_test, dtr_prediction))"
   ]
  },
  {
   "cell_type": "code",
   "execution_count": 47,
   "metadata": {},
   "outputs": [],
   "source": [
    "dtr_r2_score=metrics.r2_score(y_test, dtr_prediction)"
   ]
  },
  {
   "cell_type": "markdown",
   "metadata": {},
   "source": [
    "### Calculating Adjusted R Square for Decision Tree"
   ]
  },
  {
   "cell_type": "code",
   "execution_count": 48,
   "metadata": {},
   "outputs": [
    {
     "name": "stdout",
     "output_type": "stream",
     "text": [
      "Adjusted R2 score For Decision Tree: 0.9998894591013872\n"
     ]
    }
   ],
   "source": [
    "dtr_adjusted_r2_score=1-((1-dtr_r2_score)*(n-1))/(n-p-1)\n",
    "print('Adjusted R2 score For Decision Tree: {}'.format(dtr_adjusted_r2_score))"
   ]
  },
  {
   "cell_type": "markdown",
   "metadata": {},
   "source": [
    "The coefficient of determination of **Random Forest Classifier** is more than that of **Linear Regression** and **Decision Tree Classifier**. On the other hand, The error metrics of Random Forest are very less than that of Linear Regression and Decision Tree Classifier as well. \n",
    "So, we will take into consideration **Random Forest Classifier** model to predict stock price."
   ]
  }
 ],
 "metadata": {
  "kernelspec": {
   "display_name": "Python 3",
   "language": "python",
   "name": "python3"
  },
  "language_info": {
   "codemirror_mode": {
    "name": "ipython",
    "version": 3
   },
   "file_extension": ".py",
   "mimetype": "text/x-python",
   "name": "python",
   "nbconvert_exporter": "python",
   "pygments_lexer": "ipython3",
   "version": "3.7.6"
  }
 },
 "nbformat": 4,
 "nbformat_minor": 4
}
