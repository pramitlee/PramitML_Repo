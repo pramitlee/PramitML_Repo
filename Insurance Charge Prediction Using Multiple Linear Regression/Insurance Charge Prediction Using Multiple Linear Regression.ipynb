{
 "cells": [
  {
   "cell_type": "markdown",
   "metadata": {},
   "source": [
    "### Selecting the path of the dataset"
   ]
  },
  {
   "cell_type": "code",
   "execution_count": 1,
   "metadata": {},
   "outputs": [
    {
     "name": "stdout",
     "output_type": "stream",
     "text": [
      "D:\\Documents\\Python\\Python_tutorial\\DataScience (tutorial)\\Practice Files\\Data Set\n"
     ]
    }
   ],
   "source": [
    "cd D:\\Documents\\Python\\Python_tutorial\\DataScience (tutorial)\\Practice Files\\Data Set"
   ]
  },
  {
   "cell_type": "markdown",
   "metadata": {},
   "source": [
    "### List of packages"
   ]
  },
  {
   "cell_type": "code",
   "execution_count": 2,
   "metadata": {},
   "outputs": [
    {
     "name": "stdout",
     "output_type": "stream",
     "text": [
      "# packages in environment at C:\\Users\\User\\anaconda3:\n",
      "#\n",
      "# Name                    Version                   Build  Channel\n",
      "_ipyw_jlab_nb_ext_conf    0.1.0                    py37_0  \n",
      "alabaster                 0.7.12                   py37_0  \n",
      "anaconda                  2020.02                  py37_0  \n",
      "anaconda-client           1.7.2                    py37_0  \n",
      "anaconda-navigator        1.9.12                   py37_0  \n",
      "anaconda-project          0.8.4                      py_0  \n",
      "argh                      0.26.2                   py37_0  \n",
      "asn1crypto                1.3.0                    py37_0  \n",
      "astroid                   2.3.3                    py37_0  \n",
      "astropy                   4.0              py37he774522_0  \n",
      "atomicwrites              1.3.0                    py37_1  \n",
      "attrs                     19.3.0                     py_0  \n",
      "autopep8                  1.4.4                      py_0  \n",
      "babel                     2.8.0                      py_0  \n",
      "backcall                  0.1.0                    py37_0  \n",
      "backports                 1.0                        py_2  \n",
      "backports.functools_lru_cache 1.6.1                      py_0  \n",
      "backports.shutil_get_terminal_size 1.0.0                    py37_2  \n",
      "backports.tempfile        1.0                        py_1  \n",
      "backports.weakref         1.0.post1                  py_1  \n",
      "bcrypt                    3.1.7            py37he774522_0  \n",
      "beautifulsoup4            4.8.2                    py37_0  \n",
      "bitarray                  1.2.1            py37he774522_0  \n",
      "bkcharts                  0.2                      py37_0  \n",
      "blas                      1.0                         mkl  \n",
      "bleach                    3.1.0                    py37_0  \n",
      "blosc                     1.16.3               h7bd577a_0  \n",
      "bokeh                     1.4.0                    py37_0  \n",
      "boto                      2.49.0                   py37_0  \n",
      "bottleneck                1.3.2            py37h2a96729_0  \n",
      "bzip2                     1.0.8                he774522_0  \n",
      "ca-certificates           2020.1.1                      0  \n",
      "certifi                   2019.11.28               py37_0  \n",
      "cffi                      1.14.0           py37h7a1dbc1_0  \n",
      "chardet                   3.0.4                 py37_1003  \n",
      "click                     7.0                      py37_0  \n",
      "cloudpickle               1.3.0                      py_0  \n",
      "clyent                    1.2.2                    py37_1  \n",
      "colorama                  0.4.3                      py_0  \n",
      "comtypes                  1.1.7                    py37_0  \n",
      "conda                     4.8.2                    py37_0  \n",
      "conda-build               3.18.11                  py37_0  \n",
      "conda-env                 2.6.0                         1  \n",
      "conda-package-handling    1.6.0            py37h62dcd97_0  \n",
      "conda-verify              3.4.2                      py_1  \n",
      "console_shortcut          0.1.1                         4  \n",
      "contextlib2               0.6.0.post1                py_0  \n",
      "cryptography              2.8              py37h7a1dbc1_0  \n",
      "curl                      7.68.0               h2a8f88b_0  \n",
      "cycler                    0.10.0                   py37_0  \n",
      "cython                    0.29.15          py37ha925a31_0  \n",
      "cytoolz                   0.10.1           py37he774522_0  \n",
      "dask                      2.11.0                     py_0  \n",
      "dask-core                 2.11.0                     py_0  \n",
      "decorator                 4.4.1                      py_0  \n",
      "defusedxml                0.6.0                      py_0  \n",
      "diff-match-patch          20181111                   py_0  \n",
      "distributed               2.11.0                   py37_0  \n",
      "docutils                  0.16                     py37_0  \n",
      "entrypoints               0.3                      py37_0  \n",
      "et_xmlfile                1.0.1                    py37_0  \n",
      "fastcache                 1.1.0            py37he774522_0  \n",
      "filelock                  3.0.12                     py_0  \n",
      "flake8                    3.7.9                    py37_0  \n",
      "flask                     1.1.1                      py_0  \n",
      "freetype                  2.9.1                ha9979f8_1  \n",
      "fsspec                    0.6.2                      py_0  \n",
      "future                    0.18.2                   py37_0  \n",
      "get_terminal_size         1.0.0                h38e98db_0  \n",
      "gevent                    1.4.0            py37he774522_0  \n",
      "glob2                     0.7                        py_0  \n",
      "greenlet                  0.4.15           py37hfa6e2cd_0  \n",
      "h5py                      2.10.0           py37h5e291fa_0  \n",
      "hdf5                      1.10.4               h7ebc959_0  \n",
      "heapdict                  1.0.1                      py_0  \n",
      "html5lib                  1.0.1                    py37_0  \n",
      "hypothesis                5.5.4                      py_0  \n",
      "icc_rt                    2019.0.0             h0cc432a_1  \n",
      "icu                       58.2                 ha66f8fd_1  \n",
      "idna                      2.8                      py37_0  \n",
      "imageio                   2.6.1                    py37_0  \n",
      "imagesize                 1.2.0                      py_0  \n",
      "importlib_metadata        1.5.0                    py37_0  \n",
      "intel-openmp              2020.0                      166  \n",
      "intervaltree              3.0.2                      py_0  \n",
      "ipykernel                 5.1.4            py37h39e3cac_0  \n",
      "ipython                   7.12.0           py37h5ca1d4c_0  \n",
      "ipython_genutils          0.2.0                    py37_0  \n",
      "ipywidgets                7.5.1                      py_0  \n",
      "isort                     4.3.21                   py37_0  \n",
      "itsdangerous              1.1.0                    py37_0  \n",
      "jdcal                     1.4.1                      py_0  \n",
      "jedi                      0.14.1                   py37_0  \n",
      "jinja2                    2.11.1                     py_0  \n",
      "joblib                    0.14.1                     py_0  \n",
      "jpeg                      9b                   hb83a4c4_2  \n",
      "json5                     0.9.1                      py_0  \n",
      "jsonschema                3.2.0                    py37_0  \n",
      "jupyter                   1.0.0                    py37_7  \n",
      "jupyter_client            5.3.4                    py37_0  \n",
      "jupyter_console           6.1.0                      py_0  \n",
      "jupyter_core              4.6.1                    py37_0  \n",
      "jupyterlab                1.2.6              pyhf63ae98_0  \n",
      "jupyterlab_server         1.0.6                      py_0  \n",
      "keyring                   21.1.0                   py37_0  \n",
      "kiwisolver                1.1.0            py37ha925a31_0  \n",
      "krb5                      1.17.1               hc04afaa_0  \n",
      "lazy-object-proxy         1.4.3            py37he774522_0  \n",
      "libarchive                3.3.3                h0643e63_5  \n",
      "libcurl                   7.68.0               h2a8f88b_0  \n",
      "libiconv                  1.15                 h1df5818_7  \n",
      "liblief                   0.9.0                ha925a31_2  \n",
      "libpng                    1.6.37               h2a8f88b_0  \n",
      "libsodium                 1.0.16               h9d3ae62_0  \n",
      "libspatialindex           1.9.3                h33f27b4_0  \n",
      "libssh2                   1.8.2                h7a1dbc1_0  \n",
      "libtiff                   4.1.0                h56a325e_0  \n",
      "libxml2                   2.9.9                h464c3ec_0  \n",
      "libxslt                   1.1.33               h579f668_0  \n",
      "llvmlite                  0.31.0           py37ha925a31_0  \n",
      "locket                    0.2.0                    py37_1  \n",
      "lxml                      4.5.0            py37h1350720_0  \n",
      "lz4-c                     1.8.1.2              h2fa13f4_0  \n",
      "lzo                       2.10                 h6df0209_2  \n",
      "m2w64-gcc-libgfortran     5.3.0                         6  \n",
      "m2w64-gcc-libs            5.3.0                         7  \n",
      "m2w64-gcc-libs-core       5.3.0                         7  \n",
      "m2w64-gmp                 6.1.0                         2  \n",
      "m2w64-libwinpthread-git   5.0.0.4634.697f757               2  \n",
      "markupsafe                1.1.1            py37he774522_0  \n",
      "matplotlib                3.1.3                    py37_0  \n",
      "matplotlib-base           3.1.3            py37h64f37c6_0  \n",
      "mccabe                    0.6.1                    py37_1  \n",
      "menuinst                  1.4.16           py37he774522_0  \n",
      "mistune                   0.8.4            py37he774522_0  \n",
      "mkl                       2020.0                      166  \n",
      "mkl-service               2.3.0            py37hb782905_0  \n",
      "mkl_fft                   1.0.15           py37h14836fe_0  \n",
      "mkl_random                1.1.0            py37h675688f_0  \n",
      "mock                      4.0.1                      py_0  \n",
      "more-itertools            8.2.0                      py_0  \n",
      "mpmath                    1.1.0                    py37_0  \n",
      "msgpack-python            0.6.1            py37h74a9793_1  \n",
      "msys2-conda-epoch         20160418                      1  \n",
      "multipledispatch          0.6.0                    py37_0  \n",
      "navigator-updater         0.2.1                    py37_0  \n",
      "nbconvert                 5.6.1                    py37_0  \n",
      "nbformat                  5.0.4                      py_0  \n",
      "networkx                  2.4                        py_0  \n",
      "nltk                      3.4.5                    py37_0  \n",
      "nose                      1.3.7                    py37_2  \n",
      "notebook                  6.0.3                    py37_0  \n",
      "numba                     0.48.0           py37h47e9c7a_0  \n",
      "numexpr                   2.7.1            py37h25d0782_0  \n",
      "numpy                     1.18.1           py37h93ca92e_0  \n",
      "numpy-base                1.18.1           py37hc3f5095_1  \n",
      "numpydoc                  0.9.2                      py_0  \n",
      "olefile                   0.46                     py37_0  \n",
      "opencv-python             4.7.0.72                 pypi_0    pypi\n",
      "openpyxl                  3.0.3                      py_0  \n",
      "openssl                   1.1.1d               he774522_4  \n",
      "packaging                 20.1                       py_0  \n",
      "pandas                    1.0.1            py37h47e9c7a_0  \n",
      "pandoc                    2.2.3.2                       0  \n",
      "pandocfilters             1.4.2                    py37_1  \n",
      "paramiko                  2.7.1                      py_0  \n",
      "parso                     0.5.2                      py_0  \n",
      "partd                     1.1.0                      py_0  \n",
      "path                      13.1.0                   py37_0  \n",
      "path.py                   12.4.0                        0  \n",
      "pathlib2                  2.3.5                    py37_0  \n",
      "pathtools                 0.1.2                      py_1  \n",
      "patsy                     0.5.1                    py37_0  \n",
      "pep8                      1.7.1                    py37_0  \n",
      "pexpect                   4.8.0                    py37_0  \n",
      "pickleshare               0.7.5                    py37_0  \n",
      "pillow                    7.0.0            py37hcc1f983_0  \n",
      "pip                       20.0.2                   py37_1  \n",
      "pkginfo                   1.5.0.1                  py37_0  \n",
      "plotly                    5.18.0                   pypi_0    pypi\n",
      "pluggy                    0.13.1                   py37_0  \n",
      "ply                       3.11                     py37_0  \n",
      "powershell_shortcut       0.0.1                         3  \n",
      "prometheus_client         0.7.1                      py_0  \n",
      "prompt_toolkit            3.0.3                      py_0  \n",
      "psutil                    5.6.7            py37he774522_0  \n",
      "py                        1.8.1                      py_0  \n",
      "py-lief                   0.9.0            py37ha925a31_2  \n",
      "pycodestyle               2.5.0                    py37_0  \n",
      "pycosat                   0.6.3            py37he774522_0  \n",
      "pycparser                 2.19                     py37_0  \n",
      "pycrypto                  2.6.1            py37hfa6e2cd_9  \n",
      "pycurl                    7.43.0.5         py37h7a1dbc1_0  \n",
      "pydocstyle                4.0.1                      py_0  \n",
      "pyflakes                  2.1.1                    py37_0  \n",
      "pygments                  2.5.2                      py_0  \n",
      "pylint                    2.4.4                    py37_0  \n",
      "pynacl                    1.3.0            py37h62dcd97_0  \n",
      "pyodbc                    4.0.30           py37ha925a31_0  \n",
      "pyopenssl                 19.1.0                   py37_0  \n",
      "pyparsing                 2.4.6                      py_0  \n",
      "pyqt                      5.9.2            py37h6538335_2  \n",
      "pyreadline                2.1                      py37_1  \n",
      "pyrsistent                0.15.7           py37he774522_0  \n",
      "pysocks                   1.7.1                    py37_0  \n",
      "pytables                  3.6.1            py37h1da0976_0  \n",
      "pytest                    5.3.5                    py37_0  \n",
      "pytest-arraydiff          0.3              py37h39e3cac_0  \n",
      "pytest-astropy            0.8.0                      py_0  \n",
      "pytest-astropy-header     0.1.2                      py_0  \n",
      "pytest-doctestplus        0.5.0                      py_0  \n",
      "pytest-openfiles          0.4.0                      py_0  \n",
      "pytest-remotedata         0.3.2                    py37_0  \n",
      "python                    3.7.6                h60c2a47_2  \n",
      "python-dateutil           2.8.1                      py_0  \n",
      "python-jsonrpc-server     0.3.4                      py_0  \n",
      "python-language-server    0.31.7                   py37_0  \n",
      "python-libarchive-c       2.8                     py37_13  \n",
      "pytz                      2019.3                     py_0  \n",
      "pywavelets                1.1.1            py37he774522_0  \n",
      "pywin32                   227              py37he774522_1  \n",
      "pywin32-ctypes            0.2.0                 py37_1000  \n",
      "pywinpty                  0.5.7                    py37_0  \n",
      "pyyaml                    5.3              py37he774522_0  \n",
      "pyzmq                     18.1.1           py37ha925a31_0  \n",
      "qdarkstyle                2.8                        py_0  \n",
      "qt                        5.9.7            vc14h73c81de_0  \n",
      "qtawesome                 0.6.1                      py_0  \n",
      "qtconsole                 4.6.0                      py_1  \n",
      "qtpy                      1.9.0                      py_0  \n",
      "requests                  2.22.0                   py37_1  \n",
      "rope                      0.16.0                     py_0  \n",
      "rtree                     0.9.3            py37h21ff451_0  \n",
      "ruamel_yaml               0.15.87          py37he774522_0  \n",
      "scikit-image              0.16.2           py37h47e9c7a_0  \n",
      "scikit-learn              0.22.1           py37h6288b17_0  \n",
      "scipy                     1.4.1            py37h9439919_0  \n",
      "seaborn                   0.10.0                     py_0  \n",
      "send2trash                1.5.0                    py37_0  \n",
      "setuptools                45.2.0                   py37_0  \n",
      "simplegeneric             0.8.1                    py37_2  \n",
      "singledispatch            3.4.0.3                  py37_0  \n",
      "sip                       4.19.8           py37h6538335_0  \n",
      "six                       1.14.0                   py37_0  \n",
      "snappy                    1.1.7                h777316e_3  \n",
      "snowballstemmer           2.0.0                      py_0  \n",
      "sortedcollections         1.1.2                    py37_0  \n",
      "sortedcontainers          2.1.0                    py37_0  \n",
      "soupsieve                 1.9.5                    py37_0  \n",
      "sphinx                    2.4.0                      py_0  \n",
      "sphinxcontrib             1.0                      py37_1  \n",
      "sphinxcontrib-applehelp   1.0.1                      py_0  \n",
      "sphinxcontrib-devhelp     1.0.1                      py_0  \n",
      "sphinxcontrib-htmlhelp    1.0.2                      py_0  \n",
      "sphinxcontrib-jsmath      1.0.1                      py_0  \n",
      "sphinxcontrib-qthelp      1.0.2                      py_0  \n",
      "sphinxcontrib-serializinghtml 1.1.3                      py_0  \n",
      "sphinxcontrib-websupport  1.2.0                      py_0  \n",
      "spyder                    4.0.1                    py37_0  \n",
      "spyder-kernels            1.8.1                    py37_0  \n",
      "sqlalchemy                1.3.13           py37he774522_0  \n",
      "sqlite                    3.31.1               he774522_0  \n",
      "statsmodels               0.11.0           py37he774522_0  \n",
      "sympy                     1.5.1                    py37_0  \n",
      "tbb                       2020.0               h74a9793_0  \n",
      "tblib                     1.6.0                      py_0  \n",
      "tenacity                  8.2.3                    pypi_0    pypi\n",
      "terminado                 0.8.3                    py37_0  \n",
      "testpath                  0.4.4                      py_0  \n",
      "tk                        8.6.8                hfa6e2cd_0  \n",
      "toolz                     0.10.0                     py_0  \n",
      "tornado                   6.0.3            py37he774522_3  \n",
      "tqdm                      4.42.1                     py_0  \n",
      "traitlets                 4.3.3                    py37_0  \n",
      "ujson                     1.35             py37hfa6e2cd_0  \n",
      "unicodecsv                0.14.1                   py37_0  \n",
      "urllib3                   1.25.8                   py37_0  \n",
      "vc                        14.1                 h0510ff6_4  \n",
      "vs2015_runtime            14.16.27012          hf0eaf9b_1  \n",
      "watchdog                  0.10.2                   py37_0  \n",
      "wcwidth                   0.1.8                      py_0  \n",
      "webencodings              0.5.1                    py37_1  \n",
      "werkzeug                  1.0.0                      py_0  \n",
      "wheel                     0.34.2                   py37_0  \n",
      "widgetsnbextension        3.5.1                    py37_0  \n",
      "win_inet_pton             1.1.0                    py37_0  \n",
      "win_unicode_console       0.5                      py37_0  \n",
      "wincertstore              0.2                      py37_0  \n",
      "winpty                    0.4.3                         4  \n",
      "wrapt                     1.11.2           py37he774522_0  \n",
      "xlrd                      1.2.0                    py37_0  \n",
      "xlsxwriter                1.2.7                      py_0  \n",
      "xlwings                   0.17.1                   py37_0  \n",
      "xlwt                      1.3.0                    py37_0  \n",
      "xmltodict                 0.12.0                     py_0  \n",
      "xz                        5.2.4                h2fa13f4_4  \n",
      "yaml                      0.1.7                hc54c509_2  \n",
      "yapf                      0.28.0                     py_0  \n",
      "zeromq                    4.3.1                h33f27b4_3  \n",
      "zict                      1.0.0                      py_0  \n",
      "zipp                      2.2.0                      py_0  \n",
      "zlib                      1.2.11               h62dcd97_3  \n",
      "zstd                      1.3.7                h508b16e_0  \n",
      "\n",
      "Note: you may need to restart the kernel to use updated packages.\n"
     ]
    }
   ],
   "source": [
    "conda list"
   ]
  },
  {
   "cell_type": "markdown",
   "metadata": {},
   "source": [
    "### Importing the necessary libraries"
   ]
  },
  {
   "cell_type": "code",
   "execution_count": 3,
   "metadata": {},
   "outputs": [],
   "source": [
    "import pandas as pd\n",
    "import numpy as np\n",
    "import matplotlib.pyplot as plt\n",
    "import seaborn as sns\n",
    "from sklearn import metrics\n",
    "from sklearn.linear_model import LinearRegression\n",
    "from sklearn.model_selection import train_test_split\n",
    "from warnings import filterwarnings\n",
    "%matplotlib inline"
   ]
  },
  {
   "cell_type": "markdown",
   "metadata": {},
   "source": [
    "### Reading the dataset"
   ]
  },
  {
   "cell_type": "code",
   "execution_count": 4,
   "metadata": {},
   "outputs": [],
   "source": [
    "insurance_df = pd.read_csv('insurance_data.csv')"
   ]
  },
  {
   "cell_type": "markdown",
   "metadata": {},
   "source": [
    "### Checking the top 5 records"
   ]
  },
  {
   "cell_type": "code",
   "execution_count": 5,
   "metadata": {},
   "outputs": [
    {
     "data": {
      "text/html": [
       "<div>\n",
       "<style scoped>\n",
       "    .dataframe tbody tr th:only-of-type {\n",
       "        vertical-align: middle;\n",
       "    }\n",
       "\n",
       "    .dataframe tbody tr th {\n",
       "        vertical-align: top;\n",
       "    }\n",
       "\n",
       "    .dataframe thead th {\n",
       "        text-align: right;\n",
       "    }\n",
       "</style>\n",
       "<table border=\"1\" class=\"dataframe\">\n",
       "  <thead>\n",
       "    <tr style=\"text-align: right;\">\n",
       "      <th></th>\n",
       "      <th>age</th>\n",
       "      <th>sex</th>\n",
       "      <th>bmi</th>\n",
       "      <th>children</th>\n",
       "      <th>smoker</th>\n",
       "      <th>region</th>\n",
       "      <th>charges</th>\n",
       "    </tr>\n",
       "  </thead>\n",
       "  <tbody>\n",
       "    <tr>\n",
       "      <th>0</th>\n",
       "      <td>19</td>\n",
       "      <td>female</td>\n",
       "      <td>27.900</td>\n",
       "      <td>0</td>\n",
       "      <td>yes</td>\n",
       "      <td>southwest</td>\n",
       "      <td>16884.92400</td>\n",
       "    </tr>\n",
       "    <tr>\n",
       "      <th>1</th>\n",
       "      <td>18</td>\n",
       "      <td>male</td>\n",
       "      <td>33.770</td>\n",
       "      <td>1</td>\n",
       "      <td>no</td>\n",
       "      <td>southeast</td>\n",
       "      <td>1725.55230</td>\n",
       "    </tr>\n",
       "    <tr>\n",
       "      <th>2</th>\n",
       "      <td>28</td>\n",
       "      <td>male</td>\n",
       "      <td>33.000</td>\n",
       "      <td>3</td>\n",
       "      <td>no</td>\n",
       "      <td>southeast</td>\n",
       "      <td>4449.46200</td>\n",
       "    </tr>\n",
       "    <tr>\n",
       "      <th>3</th>\n",
       "      <td>33</td>\n",
       "      <td>male</td>\n",
       "      <td>22.705</td>\n",
       "      <td>0</td>\n",
       "      <td>no</td>\n",
       "      <td>northwest</td>\n",
       "      <td>21984.47061</td>\n",
       "    </tr>\n",
       "    <tr>\n",
       "      <th>4</th>\n",
       "      <td>32</td>\n",
       "      <td>male</td>\n",
       "      <td>28.880</td>\n",
       "      <td>0</td>\n",
       "      <td>no</td>\n",
       "      <td>northwest</td>\n",
       "      <td>3866.85520</td>\n",
       "    </tr>\n",
       "  </tbody>\n",
       "</table>\n",
       "</div>"
      ],
      "text/plain": [
       "   age     sex     bmi  children smoker     region      charges\n",
       "0   19  female  27.900         0    yes  southwest  16884.92400\n",
       "1   18    male  33.770         1     no  southeast   1725.55230\n",
       "2   28    male  33.000         3     no  southeast   4449.46200\n",
       "3   33    male  22.705         0     no  northwest  21984.47061\n",
       "4   32    male  28.880         0     no  northwest   3866.85520"
      ]
     },
     "execution_count": 5,
     "metadata": {},
     "output_type": "execute_result"
    }
   ],
   "source": [
    "insurance_df.head()"
   ]
  },
  {
   "cell_type": "markdown",
   "metadata": {},
   "source": [
    "### Finding the shape of the dataset"
   ]
  },
  {
   "cell_type": "code",
   "execution_count": 6,
   "metadata": {},
   "outputs": [
    {
     "data": {
      "text/plain": [
       "(1338, 7)"
      ]
     },
     "execution_count": 6,
     "metadata": {},
     "output_type": "execute_result"
    }
   ],
   "source": [
    "insurance_df.shape"
   ]
  },
  {
   "cell_type": "markdown",
   "metadata": {},
   "source": [
    "### Using info() method to obtain a concise summary of the dataframe's structure and information"
   ]
  },
  {
   "cell_type": "code",
   "execution_count": 7,
   "metadata": {},
   "outputs": [
    {
     "name": "stdout",
     "output_type": "stream",
     "text": [
      "<class 'pandas.core.frame.DataFrame'>\n",
      "RangeIndex: 1338 entries, 0 to 1337\n",
      "Data columns (total 7 columns):\n",
      " #   Column    Non-Null Count  Dtype  \n",
      "---  ------    --------------  -----  \n",
      " 0   age       1338 non-null   int64  \n",
      " 1   sex       1338 non-null   object \n",
      " 2   bmi       1338 non-null   float64\n",
      " 3   children  1338 non-null   int64  \n",
      " 4   smoker    1338 non-null   object \n",
      " 5   region    1338 non-null   object \n",
      " 6   charges   1338 non-null   float64\n",
      "dtypes: float64(2), int64(2), object(3)\n",
      "memory usage: 73.3+ KB\n"
     ]
    }
   ],
   "source": [
    "insurance_df.info()"
   ]
  },
  {
   "cell_type": "code",
   "execution_count": 8,
   "metadata": {},
   "outputs": [
    {
     "data": {
      "text/html": [
       "<div>\n",
       "<style scoped>\n",
       "    .dataframe tbody tr th:only-of-type {\n",
       "        vertical-align: middle;\n",
       "    }\n",
       "\n",
       "    .dataframe tbody tr th {\n",
       "        vertical-align: top;\n",
       "    }\n",
       "\n",
       "    .dataframe thead th {\n",
       "        text-align: right;\n",
       "    }\n",
       "</style>\n",
       "<table border=\"1\" class=\"dataframe\">\n",
       "  <thead>\n",
       "    <tr style=\"text-align: right;\">\n",
       "      <th></th>\n",
       "      <th>age</th>\n",
       "      <th>sex</th>\n",
       "      <th>bmi</th>\n",
       "      <th>children</th>\n",
       "      <th>smoker</th>\n",
       "      <th>region</th>\n",
       "      <th>charges</th>\n",
       "    </tr>\n",
       "  </thead>\n",
       "  <tbody>\n",
       "    <tr>\n",
       "      <th>count</th>\n",
       "      <td>1338.000000</td>\n",
       "      <td>1338</td>\n",
       "      <td>1338.000000</td>\n",
       "      <td>1338.000000</td>\n",
       "      <td>1338</td>\n",
       "      <td>1338</td>\n",
       "      <td>1338.000000</td>\n",
       "    </tr>\n",
       "    <tr>\n",
       "      <th>unique</th>\n",
       "      <td>NaN</td>\n",
       "      <td>2</td>\n",
       "      <td>NaN</td>\n",
       "      <td>NaN</td>\n",
       "      <td>2</td>\n",
       "      <td>4</td>\n",
       "      <td>NaN</td>\n",
       "    </tr>\n",
       "    <tr>\n",
       "      <th>top</th>\n",
       "      <td>NaN</td>\n",
       "      <td>male</td>\n",
       "      <td>NaN</td>\n",
       "      <td>NaN</td>\n",
       "      <td>no</td>\n",
       "      <td>southeast</td>\n",
       "      <td>NaN</td>\n",
       "    </tr>\n",
       "    <tr>\n",
       "      <th>freq</th>\n",
       "      <td>NaN</td>\n",
       "      <td>676</td>\n",
       "      <td>NaN</td>\n",
       "      <td>NaN</td>\n",
       "      <td>1064</td>\n",
       "      <td>364</td>\n",
       "      <td>NaN</td>\n",
       "    </tr>\n",
       "    <tr>\n",
       "      <th>mean</th>\n",
       "      <td>39.207025</td>\n",
       "      <td>NaN</td>\n",
       "      <td>30.663397</td>\n",
       "      <td>1.094918</td>\n",
       "      <td>NaN</td>\n",
       "      <td>NaN</td>\n",
       "      <td>13270.422265</td>\n",
       "    </tr>\n",
       "    <tr>\n",
       "      <th>std</th>\n",
       "      <td>14.049960</td>\n",
       "      <td>NaN</td>\n",
       "      <td>6.098187</td>\n",
       "      <td>1.205493</td>\n",
       "      <td>NaN</td>\n",
       "      <td>NaN</td>\n",
       "      <td>12110.011237</td>\n",
       "    </tr>\n",
       "    <tr>\n",
       "      <th>min</th>\n",
       "      <td>18.000000</td>\n",
       "      <td>NaN</td>\n",
       "      <td>15.960000</td>\n",
       "      <td>0.000000</td>\n",
       "      <td>NaN</td>\n",
       "      <td>NaN</td>\n",
       "      <td>1121.873900</td>\n",
       "    </tr>\n",
       "    <tr>\n",
       "      <th>25%</th>\n",
       "      <td>27.000000</td>\n",
       "      <td>NaN</td>\n",
       "      <td>26.296250</td>\n",
       "      <td>0.000000</td>\n",
       "      <td>NaN</td>\n",
       "      <td>NaN</td>\n",
       "      <td>4740.287150</td>\n",
       "    </tr>\n",
       "    <tr>\n",
       "      <th>50%</th>\n",
       "      <td>39.000000</td>\n",
       "      <td>NaN</td>\n",
       "      <td>30.400000</td>\n",
       "      <td>1.000000</td>\n",
       "      <td>NaN</td>\n",
       "      <td>NaN</td>\n",
       "      <td>9382.033000</td>\n",
       "    </tr>\n",
       "    <tr>\n",
       "      <th>75%</th>\n",
       "      <td>51.000000</td>\n",
       "      <td>NaN</td>\n",
       "      <td>34.693750</td>\n",
       "      <td>2.000000</td>\n",
       "      <td>NaN</td>\n",
       "      <td>NaN</td>\n",
       "      <td>16639.912515</td>\n",
       "    </tr>\n",
       "    <tr>\n",
       "      <th>max</th>\n",
       "      <td>64.000000</td>\n",
       "      <td>NaN</td>\n",
       "      <td>53.130000</td>\n",
       "      <td>5.000000</td>\n",
       "      <td>NaN</td>\n",
       "      <td>NaN</td>\n",
       "      <td>63770.428010</td>\n",
       "    </tr>\n",
       "  </tbody>\n",
       "</table>\n",
       "</div>"
      ],
      "text/plain": [
       "                age   sex          bmi     children smoker     region  \\\n",
       "count   1338.000000  1338  1338.000000  1338.000000   1338       1338   \n",
       "unique          NaN     2          NaN          NaN      2          4   \n",
       "top             NaN  male          NaN          NaN     no  southeast   \n",
       "freq            NaN   676          NaN          NaN   1064        364   \n",
       "mean      39.207025   NaN    30.663397     1.094918    NaN        NaN   \n",
       "std       14.049960   NaN     6.098187     1.205493    NaN        NaN   \n",
       "min       18.000000   NaN    15.960000     0.000000    NaN        NaN   \n",
       "25%       27.000000   NaN    26.296250     0.000000    NaN        NaN   \n",
       "50%       39.000000   NaN    30.400000     1.000000    NaN        NaN   \n",
       "75%       51.000000   NaN    34.693750     2.000000    NaN        NaN   \n",
       "max       64.000000   NaN    53.130000     5.000000    NaN        NaN   \n",
       "\n",
       "             charges  \n",
       "count    1338.000000  \n",
       "unique           NaN  \n",
       "top              NaN  \n",
       "freq             NaN  \n",
       "mean    13270.422265  \n",
       "std     12110.011237  \n",
       "min      1121.873900  \n",
       "25%      4740.287150  \n",
       "50%      9382.033000  \n",
       "75%     16639.912515  \n",
       "max     63770.428010  "
      ]
     },
     "execution_count": 8,
     "metadata": {},
     "output_type": "execute_result"
    }
   ],
   "source": [
    "insurance_df.describe(include='all')"
   ]
  },
  {
   "cell_type": "markdown",
   "metadata": {},
   "source": [
    "### Checking the null values in the columns"
   ]
  },
  {
   "cell_type": "code",
   "execution_count": 9,
   "metadata": {},
   "outputs": [
    {
     "data": {
      "text/plain": [
       "age         0\n",
       "sex         0\n",
       "bmi         0\n",
       "children    0\n",
       "smoker      0\n",
       "region      0\n",
       "charges     0\n",
       "dtype: int64"
      ]
     },
     "execution_count": 9,
     "metadata": {},
     "output_type": "execute_result"
    }
   ],
   "source": [
    "insurance_df.isnull().sum()"
   ]
  },
  {
   "cell_type": "markdown",
   "metadata": {},
   "source": [
    "### Visualization of the distribution of the feature \"age\" by distplot"
   ]
  },
  {
   "cell_type": "code",
   "execution_count": 10,
   "metadata": {},
   "outputs": [
    {
     "data": {
      "image/png": "[encoded data removed]",
      "text/plain": [
       "<Figure size 720x576 with 1 Axes>"
      ]
     },
     "metadata": {},
     "output_type": "display_data"
    }
   ],
   "source": [
    "# Distribution of age column using distplot\n",
    "sns.set()\n",
    "plt.figure(figsize=(10,8))\n",
    "sns.distplot(insurance_df['age'],color='r')\n",
    "plt.title('Age Distribution')\n",
    "plt.show()"
   ]
  },
  {
   "cell_type": "code",
   "execution_count": 11,
   "metadata": {},
   "outputs": [
    {
     "data": {
      "image/png": "[encoded data removed]",
      "text/plain": [
       "<Figure size 576x432 with 1 Axes>"
      ]
     },
     "metadata": {},
     "output_type": "display_data"
    }
   ],
   "source": [
    "# Gender column\n",
    "plt.figure(figsize=(8,6))\n",
    "sns.countplot(x='sex', data=insurance_df)\n",
    "plt.title('Gender Distribution')\n",
    "plt.show()"
   ]
  },
  {
   "cell_type": "code",
   "execution_count": 12,
   "metadata": {},
   "outputs": [
    {
     "data": {
      "text/plain": [
       "male      676\n",
       "female    662\n",
       "Name: sex, dtype: int64"
      ]
     },
     "execution_count": 12,
     "metadata": {},
     "output_type": "execute_result"
    }
   ],
   "source": [
    "insurance_df['sex'].value_counts()"
   ]
  },
  {
   "cell_type": "code",
   "execution_count": 13,
   "metadata": {},
   "outputs": [
    {
     "data": {
      "text/plain": [
       "0    574\n",
       "1    324\n",
       "2    240\n",
       "3    157\n",
       "4     25\n",
       "5     18\n",
       "Name: children, dtype: int64"
      ]
     },
     "execution_count": 13,
     "metadata": {},
     "output_type": "execute_result"
    }
   ],
   "source": [
    "insurance_df['children'].value_counts()"
   ]
  },
  {
   "cell_type": "code",
   "execution_count": 14,
   "metadata": {},
   "outputs": [
    {
     "data": {
      "text/plain": [
       "no     1064\n",
       "yes     274\n",
       "Name: smoker, dtype: int64"
      ]
     },
     "execution_count": 14,
     "metadata": {},
     "output_type": "execute_result"
    }
   ],
   "source": [
    "insurance_df['smoker'].value_counts()"
   ]
  },
  {
   "cell_type": "code",
   "execution_count": 15,
   "metadata": {},
   "outputs": [
    {
     "data": {
      "text/plain": [
       "32.300    13\n",
       "28.310     9\n",
       "31.350     8\n",
       "30.800     8\n",
       "30.875     8\n",
       "          ..\n",
       "20.100     1\n",
       "29.545     1\n",
       "37.900     1\n",
       "25.520     1\n",
       "24.090     1\n",
       "Name: bmi, Length: 548, dtype: int64"
      ]
     },
     "execution_count": 15,
     "metadata": {},
     "output_type": "execute_result"
    }
   ],
   "source": [
    "insurance_df['bmi'].value_counts()"
   ]
  },
  {
   "cell_type": "markdown",
   "metadata": {},
   "source": [
    "### Visualization of the distinct values of the feature \"smoker\" by countplot"
   ]
  },
  {
   "cell_type": "code",
   "execution_count": 16,
   "metadata": {},
   "outputs": [
    {
     "data": {
      "image/png": "[encoded data removed]",
      "text/plain": [
       "<Figure size 576x432 with 1 Axes>"
      ]
     },
     "metadata": {},
     "output_type": "display_data"
    }
   ],
   "source": [
    "# Gender column\n",
    "plt.figure(figsize=(8,6))\n",
    "sns.countplot(x='smoker', data=insurance_df)\n",
    "plt.title('Smoker Distribution')\n",
    "plt.show()"
   ]
  },
  {
   "cell_type": "markdown",
   "metadata": {},
   "source": [
    "### Visualization of the distribution of the feature \"BMI\" by distplot"
   ]
  },
  {
   "cell_type": "code",
   "execution_count": 17,
   "metadata": {},
   "outputs": [
    {
     "data": {
      "image/png": "[encoded data removed]",
      "text/plain": [
       "<Figure size 720x576 with 1 Axes>"
      ]
     },
     "metadata": {},
     "output_type": "display_data"
    }
   ],
   "source": [
    "# Distribution of BMI column using distplot\n",
    "sns.set()\n",
    "plt.figure(figsize=(10,8))\n",
    "sns.distplot(insurance_df['bmi'],color='g')\n",
    "plt.title('BMI Distribution')\n",
    "plt.show()"
   ]
  },
  {
   "cell_type": "markdown",
   "metadata": {},
   "source": [
    "### Converting the datatype of the feature \"Sex\" from categorical to numerical"
   ]
  },
  {
   "cell_type": "code",
   "execution_count": 18,
   "metadata": {},
   "outputs": [],
   "source": [
    "insurance_df['sex'] = insurance_df['sex'].map({'male':1,'female':0})"
   ]
  },
  {
   "cell_type": "markdown",
   "metadata": {},
   "source": [
    "### Checking the distinct values of the feature 'Sex'"
   ]
  },
  {
   "cell_type": "code",
   "execution_count": 19,
   "metadata": {},
   "outputs": [
    {
     "data": {
      "text/plain": [
       "1    676\n",
       "0    662\n",
       "Name: sex, dtype: int64"
      ]
     },
     "execution_count": 19,
     "metadata": {},
     "output_type": "execute_result"
    }
   ],
   "source": [
    "insurance_df['sex'].value_counts()"
   ]
  },
  {
   "cell_type": "markdown",
   "metadata": {},
   "source": [
    "### Visualization of the distinct values of the feature \"region\" by countplot"
   ]
  },
  {
   "cell_type": "code",
   "execution_count": 20,
   "metadata": {},
   "outputs": [
    {
     "data": {
      "image/png": "[encoded data removed]",
      "text/plain": [
       "<Figure size 576x432 with 1 Axes>"
      ]
     },
     "metadata": {},
     "output_type": "display_data"
    }
   ],
   "source": [
    "# Region column\n",
    "plt.figure(figsize=(8,6))\n",
    "sns.countplot(x='region', data=insurance_df)\n",
    "plt.title('Region Distribution')\n",
    "plt.show()"
   ]
  },
  {
   "cell_type": "markdown",
   "metadata": {},
   "source": [
    "### Visualization of the distribution of the feature \"Charges\" by distplot"
   ]
  },
  {
   "cell_type": "code",
   "execution_count": 21,
   "metadata": {},
   "outputs": [
    {
     "data": {
      "image/png": "[encoded data removed]",
      "text/plain": [
       "<Figure size 576x432 with 1 Axes>"
      ]
     },
     "metadata": {},
     "output_type": "display_data"
    }
   ],
   "source": [
    "# distribution of Charges\n",
    "plt.figure(figsize=(8,6))\n",
    "sns.distplot(insurance_df['charges'], color=\"orange\")\n",
    "plt.title('Charges Distribution')\n",
    "plt.show()"
   ]
  },
  {
   "cell_type": "markdown",
   "metadata": {},
   "source": [
    "### Converting the datatype of the feature \"smoker\" from categorical to numerical"
   ]
  },
  {
   "cell_type": "code",
   "execution_count": 22,
   "metadata": {},
   "outputs": [],
   "source": [
    "insurance_df['smoker'] = insurance_df['smoker'].map({'yes':1,'no':0})"
   ]
  },
  {
   "cell_type": "markdown",
   "metadata": {},
   "source": [
    "### Checking the number of distinct values of feature \"smoker\""
   ]
  },
  {
   "cell_type": "code",
   "execution_count": 23,
   "metadata": {},
   "outputs": [
    {
     "data": {
      "text/plain": [
       "0    1064\n",
       "1     274\n",
       "Name: smoker, dtype: int64"
      ]
     },
     "execution_count": 23,
     "metadata": {},
     "output_type": "execute_result"
    }
   ],
   "source": [
    "insurance_df['smoker'].value_counts()"
   ]
  },
  {
   "cell_type": "markdown",
   "metadata": {},
   "source": [
    "### Converting the datatype of the feature \"region\" from categorical to numerical"
   ]
  },
  {
   "cell_type": "code",
   "execution_count": 24,
   "metadata": {},
   "outputs": [],
   "source": [
    "insurance_df['region'] = insurance_df['region'].map({'southeast':1,'southwest':0,'northeast':2,'northwest':3})"
   ]
  },
  {
   "cell_type": "code",
   "execution_count": 25,
   "metadata": {},
   "outputs": [
    {
     "data": {
      "text/plain": [
       "1    364\n",
       "3    325\n",
       "0    325\n",
       "2    324\n",
       "Name: region, dtype: int64"
      ]
     },
     "execution_count": 25,
     "metadata": {},
     "output_type": "execute_result"
    }
   ],
   "source": [
    "insurance_df['region'].value_counts()"
   ]
  },
  {
   "cell_type": "code",
   "execution_count": 26,
   "metadata": {},
   "outputs": [
    {
     "name": "stdout",
     "output_type": "stream",
     "text": [
      "      age  sex     bmi  children  smoker  region\n",
      "0      19    0  27.900         0       1       0\n",
      "1      18    1  33.770         1       0       1\n",
      "2      28    1  33.000         3       0       1\n",
      "3      33    1  22.705         0       0       3\n",
      "4      32    1  28.880         0       0       3\n",
      "...   ...  ...     ...       ...     ...     ...\n",
      "1333   50    1  30.970         3       0       3\n",
      "1334   18    0  31.920         0       0       2\n",
      "1335   18    0  36.850         0       0       1\n",
      "1336   21    0  25.800         0       0       0\n",
      "1337   61    0  29.070         0       1       3\n",
      "\n",
      "[1338 rows x 6 columns]\n"
     ]
    }
   ],
   "source": [
    "X = insurance_df.drop(columns='charges', axis=1)\n",
    "y = insurance_df['charges']\n",
    "print(X)"
   ]
  },
  {
   "cell_type": "code",
   "execution_count": 27,
   "metadata": {},
   "outputs": [
    {
     "name": "stdout",
     "output_type": "stream",
     "text": [
      "0       16884.92400\n",
      "1        1725.55230\n",
      "2        4449.46200\n",
      "3       21984.47061\n",
      "4        3866.85520\n",
      "           ...     \n",
      "1333    10600.54830\n",
      "1334     2205.98080\n",
      "1335     1629.83350\n",
      "1336     2007.94500\n",
      "1337    29141.36030\n",
      "Name: charges, Length: 1338, dtype: float64\n"
     ]
    }
   ],
   "source": [
    "print(y)"
   ]
  },
  {
   "cell_type": "markdown",
   "metadata": {},
   "source": [
    "### Splitting the dataset into test and training set "
   ]
  },
  {
   "cell_type": "code",
   "execution_count": 28,
   "metadata": {},
   "outputs": [
    {
     "name": "stdout",
     "output_type": "stream",
     "text": [
      "(1338, 6) (1070, 6) (268, 6)\n"
     ]
    }
   ],
   "source": [
    "X_train, X_test, y_train, y_test = train_test_split(X, y, test_size=0.2, random_state=0)\n",
    "print(X.shape, X_train.shape, X_test.shape)"
   ]
  },
  {
   "cell_type": "code",
   "execution_count": 29,
   "metadata": {},
   "outputs": [
    {
     "name": "stdout",
     "output_type": "stream",
     "text": [
      "(1338,) (1070,) (268,)\n"
     ]
    }
   ],
   "source": [
    "print(y.shape, y_train.shape, y_test.shape)"
   ]
  },
  {
   "cell_type": "markdown",
   "metadata": {},
   "source": [
    "### Creating an instance of the Linear Regression Model"
   ]
  },
  {
   "cell_type": "code",
   "execution_count": 30,
   "metadata": {},
   "outputs": [
    {
     "data": {
      "text/plain": [
       "LinearRegression(copy_X=True, fit_intercept=True, n_jobs=None, normalize=False)"
      ]
     },
     "execution_count": 30,
     "metadata": {},
     "output_type": "execute_result"
    }
   ],
   "source": [
    "linreg = LinearRegression()\n",
    "\n",
    "linreg.fit(X_train, y_train)"
   ]
  },
  {
   "cell_type": "code",
   "execution_count": 31,
   "metadata": {},
   "outputs": [],
   "source": [
    "y_pred=linreg.predict(X_test)"
   ]
  },
  {
   "cell_type": "code",
   "execution_count": 32,
   "metadata": {},
   "outputs": [],
   "source": [
    "training_preg = linreg.predict(X_train)"
   ]
  },
  {
   "cell_type": "code",
   "execution_count": 33,
   "metadata": {},
   "outputs": [],
   "source": [
    "train_r2 = metrics.r2_score(y_train,training_preg)"
   ]
  },
  {
   "cell_type": "markdown",
   "metadata": {},
   "source": [
    "### Finding the R Squared value of Training Set"
   ]
  },
  {
   "cell_type": "code",
   "execution_count": 34,
   "metadata": {},
   "outputs": [
    {
     "name": "stdout",
     "output_type": "stream",
     "text": [
      "R Squared value of Training Set:  0.7366063692669162\n"
     ]
    }
   ],
   "source": [
    "print('R Squared value of Training Set: ',train_r2)"
   ]
  },
  {
   "cell_type": "markdown",
   "metadata": {},
   "source": [
    "### Finding the R Squared value of Testing Set"
   ]
  },
  {
   "cell_type": "code",
   "execution_count": 35,
   "metadata": {},
   "outputs": [
    {
     "name": "stdout",
     "output_type": "stream",
     "text": [
      "R Squared value of Testing Set:  0.7990754766195023\n"
     ]
    }
   ],
   "source": [
    "test_r2 = metrics.r2_score(y_test,y_pred)\n",
    "print('R Squared value of Testing Set: ',test_r2)"
   ]
  },
  {
   "cell_type": "markdown",
   "metadata": {},
   "source": [
    "### Testing the model with new data"
   ]
  },
  {
   "cell_type": "code",
   "execution_count": 36,
   "metadata": {},
   "outputs": [
    {
     "name": "stdout",
     "output_type": "stream",
     "text": [
      "[11625.24163959]\n",
      "\n",
      " The Insurance charge is USD: $ 11625.241639588012\n"
     ]
    }
   ],
   "source": [
    "# Input Data\n",
    "new_data = (45, 1, 33.74, 2, 0, 3)\n",
    "\n",
    "# Converting input_data to a numpy array\n",
    "new_data_array = np.asarray(new_data)\n",
    "\n",
    "# Reshaping the array\n",
    "new_data_array_reshaped = new_data_array.reshape(1, -1)\n",
    "\n",
    "# Making Prediction\n",
    "prediction_res = linreg.predict(new_data_array_reshaped)\n",
    "print(prediction_res)\n",
    "\n",
    "# Displaying the Prediction\n",
    "print('\\n The Insurance charge is USD: $',prediction_res[0])"
   ]
  }
 ],
 "metadata": {
  "kernelspec": {
   "display_name": "Python 3",
   "language": "python",
   "name": "python3"
  },
  "language_info": {
   "codemirror_mode": {
    "name": "ipython",
    "version": 3
   },
   "file_extension": ".py",
   "mimetype": "text/x-python",
   "name": "python",
   "nbconvert_exporter": "python",
   "pygments_lexer": "ipython3",
   "version": "3.7.6"
  }
 },
 "nbformat": 4,
 "nbformat_minor": 4
}
